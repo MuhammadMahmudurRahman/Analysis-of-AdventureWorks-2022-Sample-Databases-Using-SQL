{
 "cells": [
  {
   "cell_type": "markdown",
   "id": "f9b02a4b",
   "metadata": {},
   "source": [
    "# Analysis of AdventureWorks 2022 Sample Databases by SQLAlChemy Python SQL toolkit "
   ]
  },
  {
   "cell_type": "markdown",
   "id": "f753374d",
   "metadata": {},
   "source": [
    "# Installing SQLAlChemy"
   ]
  },
  {
   "cell_type": "code",
   "execution_count": 1,
   "id": "87a56f57",
   "metadata": {
    "scrolled": true
   },
   "outputs": [
    {
     "name": "stdout",
     "output_type": "stream",
     "text": [
      "Requirement already satisfied: sqlalchemy in c:\\anaconda\\lib\\site-packages (1.4.39)\n",
      "Requirement already satisfied: greenlet!=0.4.17 in c:\\anaconda\\lib\\site-packages (from sqlalchemy) (2.0.1)\n",
      "Requirement already satisfied: pyodbc in c:\\anaconda\\lib\\site-packages (4.0.34)\n"
     ]
    }
   ],
   "source": [
    "!pip install sqlalchemy\n",
    "!pip install pyodbc"
   ]
  },
  {
   "cell_type": "markdown",
   "id": "5ba43ceb",
   "metadata": {},
   "source": [
    "# Importing necessary libraries and creating engine"
   ]
  },
  {
   "cell_type": "code",
   "execution_count": 1,
   "id": "64e63aaa",
   "metadata": {},
   "outputs": [],
   "source": [
    "from sqlalchemy import create_engine, Table, inspect\n",
    "import pandas as pd\n",
    "import numpy as np\n",
    "import matplotlib.pyplot as plt\n",
    "import seaborn as sns\n",
    "import pyodbc\n",
    "import scipy.stats as stats\n",
    "from scipy.stats import t\n",
    "from tabulate import tabulate\n",
    "\n",
    "\n",
    "# Windows authentication\n",
    "Server = 'RUMON_LENOVO'\n",
    "Database = 'AdventureWorks2022'\n",
    "Driver = 'ODBC Driver 17 for SQL Server'\n",
    "Database_Connection = f'mssql://@{Server}/{Database}?driver={Driver}'\n",
    "Trusted_Connection = 'yes'\n",
    "\n",
    "engine = create_engine(Database_Connection)\n",
    "connection = engine.connect()"
   ]
  },
  {
   "cell_type": "code",
   "execution_count": 3,
   "id": "b0105f96",
   "metadata": {},
   "outputs": [
    {
     "name": "stdout",
     "output_type": "stream",
     "text": [
      "Engine(mssql://@RUMON_LENOVO/AdventureWorks2022?driver=ODBC+Driver+17+for+SQL+Server)\n"
     ]
    }
   ],
   "source": [
    "# Printing engine\n",
    "print(engine)"
   ]
  },
  {
   "cell_type": "code",
   "execution_count": 4,
   "id": "3df291eb",
   "metadata": {},
   "outputs": [
    {
     "name": "stdout",
     "output_type": "stream",
     "text": [
      "<class 'sqlalchemy.engine.base.Engine'>\n"
     ]
    }
   ],
   "source": [
    "# Checking the type of engine\n",
    "print(type(engine))"
   ]
  },
  {
   "cell_type": "code",
   "execution_count": 5,
   "id": "eb1e1c53",
   "metadata": {},
   "outputs": [
    {
     "name": "stdout",
     "output_type": "stream",
     "text": [
      "SQL Server\n",
      "SQL Server Native Client RDA 11.0\n",
      "ODBC Driver 17 for SQL Server\n",
      "Microsoft Access Driver (*.mdb, *.accdb)\n",
      "Microsoft Excel Driver (*.xls, *.xlsx, *.xlsm, *.xlsb)\n",
      "Microsoft Access Text Driver (*.txt, *.csv)\n"
     ]
    }
   ],
   "source": [
    "# Checking the drivers that I have access to\n",
    "for driver in pyodbc.drivers():\n",
    "    print(driver)"
   ]
  },
  {
   "cell_type": "markdown",
   "id": "e961b747",
   "metadata": {},
   "source": [
    "# Inspecting the database"
   ]
  },
  {
   "cell_type": "code",
   "execution_count": 6,
   "id": "206d6021",
   "metadata": {},
   "outputs": [
    {
     "name": "stdout",
     "output_type": "stream",
     "text": [
      "['db_accessadmin', 'db_backupoperator', 'db_datareader', 'db_datawriter', 'db_ddladmin', 'db_denydatareader', 'db_denydatawriter', 'db_owner', 'db_securityadmin', 'dbo', 'guest', 'HumanResources', 'INFORMATION_SCHEMA', 'Person', 'Production', 'Purchasing', 'Sales', 'sys']\n"
     ]
    }
   ],
   "source": [
    "# To see the schemas\n",
    "inspector = inspect(engine)\n",
    "schemas = inspector.get_schema_names()\n",
    "print(schemas)"
   ]
  },
  {
   "cell_type": "code",
   "execution_count": 7,
   "id": "a70bd718",
   "metadata": {},
   "outputs": [
    {
     "name": "stdout",
     "output_type": "stream",
     "text": [
      "db_accessadmin\n",
      "db_backupoperator\n",
      "db_datareader\n",
      "db_datawriter\n",
      "db_ddladmin\n",
      "db_denydatareader\n",
      "db_denydatawriter\n",
      "db_owner\n",
      "db_securityadmin\n",
      "dbo\n",
      "guest\n",
      "HumanResources\n",
      "INFORMATION_SCHEMA\n",
      "Person\n",
      "Production\n",
      "Purchasing\n",
      "Sales\n",
      "sys\n"
     ]
    }
   ],
   "source": [
    "# Schemas in a column\n",
    "for schema in schemas:\n",
    "    print(schema)"
   ]
  },
  {
   "cell_type": "code",
   "execution_count": 8,
   "id": "8aa65e27",
   "metadata": {},
   "outputs": [
    {
     "name": "stdout",
     "output_type": "stream",
     "text": [
      "['August_Goal_Table', 'CountryRegionCurrency', 'CreditCard', 'Currency', 'CurrencyRate', 'Customer', 'PersonCreditCard', 'SalesOrderDetail', 'SalesOrderHeader', 'SalesOrderHeaderSalesReason', 'SalesPerson', 'SalesPersonQuotaHistory', 'SalesReason', 'SalesTaxRate', 'SalesTerritory', 'SalesTerritoryHistory', 'ShoppingCartItem', 'SpecialOffer', 'SpecialOfferProduct', 'Store']\n"
     ]
    }
   ],
   "source": [
    "# Calling all the table names under a specific schema:\n",
    "print(inspector.get_table_names(schema='Sales'))"
   ]
  },
  {
   "cell_type": "code",
   "execution_count": 9,
   "id": "976f0ee9",
   "metadata": {},
   "outputs": [
    {
     "name": "stdout",
     "output_type": "stream",
     "text": [
      "SalesOrderID\n",
      "SalesOrderDetailID\n",
      "CarrierTrackingNumber\n",
      "OrderQty\n",
      "ProductID\n",
      "SpecialOfferID\n",
      "UnitPrice\n",
      "UnitPriceDiscount\n",
      "LineTotal\n",
      "rowguid\n",
      "ModifiedDate\n"
     ]
    }
   ],
   "source": [
    "# Printing all the column names of a table, here it is SalesOrderDetail table\n",
    "for col in inspector.get_columns(table_name='SalesOrderDetail', schema='Sales'):\n",
    "    print(col['name'])"
   ]
  },
  {
   "cell_type": "markdown",
   "id": "12086b3e",
   "metadata": {},
   "source": [
    "# Querying the database "
   ]
  },
  {
   "cell_type": "code",
   "execution_count": 10,
   "id": "3e37c112",
   "metadata": {},
   "outputs": [
    {
     "data": {
      "text/plain": [
       "<function pandas.io.sql.read_sql(sql, con, index_col: 'str | list[str] | None' = None, coerce_float: 'bool' = True, params=None, parse_dates=None, columns: 'list[str] | None' = None, chunksize: 'int | None' = None, dtype_backend: 'DtypeBackend | lib.NoDefault' = <no_default>, dtype: 'DtypeArg | None' = None) -> 'DataFrame | Iterator[DataFrame]'>"
      ]
     },
     "execution_count": 10,
     "metadata": {},
     "output_type": "execute_result"
    }
   ],
   "source": [
    "# Read sql in pandas\n",
    "pd.read_sql"
   ]
  },
  {
   "cell_type": "code",
   "execution_count": 11,
   "id": "3bf8124c",
   "metadata": {},
   "outputs": [
    {
     "name": "stdout",
     "output_type": "stream",
     "text": [
      "<function read_sql at 0x0000022D4720C720>\n"
     ]
    }
   ],
   "source": [
    "# Printing sql\n",
    "print(pd.read_sql)"
   ]
  },
  {
   "cell_type": "code",
   "execution_count": 12,
   "id": "da018175",
   "metadata": {},
   "outputs": [
    {
     "name": "stdout",
     "output_type": "stream",
     "text": [
      "<class 'function'>\n"
     ]
    }
   ],
   "source": [
    "# Printing type sql:\n",
    "print(type(pd.read_sql))"
   ]
  },
  {
   "cell_type": "markdown",
   "id": "875479de",
   "metadata": {},
   "source": [
    "# Sales Schema"
   ]
  },
  {
   "cell_type": "markdown",
   "id": "474cf21b",
   "metadata": {},
   "source": [
    "## Sales.SalesOrderDetail Table"
   ]
  },
  {
   "cell_type": "code",
   "execution_count": 13,
   "id": "1d74eb55",
   "metadata": {},
   "outputs": [
    {
     "name": "stdout",
     "output_type": "stream",
     "text": [
      "<class 'pandas.core.frame.DataFrame'>\n",
      "RangeIndex: 121317 entries, 0 to 121316\n",
      "Data columns (total 11 columns):\n",
      " #   Column                 Non-Null Count   Dtype         \n",
      "---  ------                 --------------   -----         \n",
      " 0   SalesOrderID           121317 non-null  int64         \n",
      " 1   SalesOrderDetailID     121317 non-null  int64         \n",
      " 2   CarrierTrackingNumber  60919 non-null   object        \n",
      " 3   OrderQty               121317 non-null  int64         \n",
      " 4   ProductID              121317 non-null  int64         \n",
      " 5   SpecialOfferID         121317 non-null  int64         \n",
      " 6   UnitPrice              121317 non-null  float64       \n",
      " 7   UnitPriceDiscount      121317 non-null  float64       \n",
      " 8   LineTotal              121317 non-null  float64       \n",
      " 9   rowguid                121317 non-null  object        \n",
      " 10  ModifiedDate           121317 non-null  datetime64[ns]\n",
      "dtypes: datetime64[ns](1), float64(3), int64(5), object(2)\n",
      "memory usage: 10.2+ MB\n"
     ]
    }
   ],
   "source": [
    "# To see the concise summary of the table SalesOrderDetail\n",
    "df1 = pd.read_sql(sql=\"SELECT * from Sales.SalesOrderDetail\", con=connection)\n",
    "df1.info()"
   ]
  },
  {
   "cell_type": "code",
   "execution_count": 14,
   "id": "f21f4378",
   "metadata": {},
   "outputs": [
    {
     "data": {
      "text/plain": [
       "SalesOrderID                 0\n",
       "SalesOrderDetailID           0\n",
       "CarrierTrackingNumber    60398\n",
       "OrderQty                     0\n",
       "ProductID                    0\n",
       "SpecialOfferID               0\n",
       "UnitPrice                    0\n",
       "UnitPriceDiscount            0\n",
       "LineTotal                    0\n",
       "rowguid                      0\n",
       "ModifiedDate                 0\n",
       "dtype: int64"
      ]
     },
     "execution_count": 14,
     "metadata": {},
     "output_type": "execute_result"
    }
   ],
   "source": [
    "# checking missing values in the table SalesOrderDetail\n",
    "df1.isnull().sum()"
   ]
  },
  {
   "cell_type": "code",
   "execution_count": 15,
   "id": "7c4f2c9a",
   "metadata": {},
   "outputs": [
    {
     "data": {
      "text/html": [
       "<div>\n",
       "<style scoped>\n",
       "    .dataframe tbody tr th:only-of-type {\n",
       "        vertical-align: middle;\n",
       "    }\n",
       "\n",
       "    .dataframe tbody tr th {\n",
       "        vertical-align: top;\n",
       "    }\n",
       "\n",
       "    .dataframe thead th {\n",
       "        text-align: right;\n",
       "    }\n",
       "</style>\n",
       "<table border=\"1\" class=\"dataframe\">\n",
       "  <thead>\n",
       "    <tr style=\"text-align: right;\">\n",
       "      <th></th>\n",
       "      <th>SalesOrderID</th>\n",
       "      <th>SalesOrderDetailID</th>\n",
       "      <th>OrderQty</th>\n",
       "      <th>ProductID</th>\n",
       "      <th>SpecialOfferID</th>\n",
       "      <th>UnitPrice</th>\n",
       "      <th>UnitPriceDiscount</th>\n",
       "      <th>LineTotal</th>\n",
       "      <th>ModifiedDate</th>\n",
       "    </tr>\n",
       "  </thead>\n",
       "  <tbody>\n",
       "    <tr>\n",
       "      <th>count</th>\n",
       "      <td>121317.000000</td>\n",
       "      <td>121317.000000</td>\n",
       "      <td>121317.000000</td>\n",
       "      <td>121317.000000</td>\n",
       "      <td>121317.000000</td>\n",
       "      <td>121317.000000</td>\n",
       "      <td>121317.000000</td>\n",
       "      <td>121317.000000</td>\n",
       "      <td>121317</td>\n",
       "    </tr>\n",
       "    <tr>\n",
       "      <th>mean</th>\n",
       "      <td>57827.363782</td>\n",
       "      <td>60659.000000</td>\n",
       "      <td>2.266080</td>\n",
       "      <td>841.680836</td>\n",
       "      <td>1.162541</td>\n",
       "      <td>465.093496</td>\n",
       "      <td>0.002826</td>\n",
       "      <td>905.449207</td>\n",
       "      <td>2013-07-15 19:44:52.321768704</td>\n",
       "    </tr>\n",
       "    <tr>\n",
       "      <th>min</th>\n",
       "      <td>43659.000000</td>\n",
       "      <td>1.000000</td>\n",
       "      <td>1.000000</td>\n",
       "      <td>707.000000</td>\n",
       "      <td>1.000000</td>\n",
       "      <td>1.328200</td>\n",
       "      <td>0.000000</td>\n",
       "      <td>1.374000</td>\n",
       "      <td>2011-05-31 00:00:00</td>\n",
       "    </tr>\n",
       "    <tr>\n",
       "      <th>25%</th>\n",
       "      <td>49884.000000</td>\n",
       "      <td>30330.000000</td>\n",
       "      <td>1.000000</td>\n",
       "      <td>768.000000</td>\n",
       "      <td>1.000000</td>\n",
       "      <td>21.490000</td>\n",
       "      <td>0.000000</td>\n",
       "      <td>24.990000</td>\n",
       "      <td>2013-02-28 00:00:00</td>\n",
       "    </tr>\n",
       "    <tr>\n",
       "      <th>50%</th>\n",
       "      <td>57029.000000</td>\n",
       "      <td>60659.000000</td>\n",
       "      <td>1.000000</td>\n",
       "      <td>863.000000</td>\n",
       "      <td>1.000000</td>\n",
       "      <td>49.990000</td>\n",
       "      <td>0.000000</td>\n",
       "      <td>134.982000</td>\n",
       "      <td>2013-09-30 00:00:00</td>\n",
       "    </tr>\n",
       "    <tr>\n",
       "      <th>75%</th>\n",
       "      <td>65490.000000</td>\n",
       "      <td>90988.000000</td>\n",
       "      <td>3.000000</td>\n",
       "      <td>921.000000</td>\n",
       "      <td>1.000000</td>\n",
       "      <td>602.346000</td>\n",
       "      <td>0.000000</td>\n",
       "      <td>1120.490000</td>\n",
       "      <td>2014-01-31 00:00:00</td>\n",
       "    </tr>\n",
       "    <tr>\n",
       "      <th>max</th>\n",
       "      <td>75123.000000</td>\n",
       "      <td>121317.000000</td>\n",
       "      <td>44.000000</td>\n",
       "      <td>999.000000</td>\n",
       "      <td>16.000000</td>\n",
       "      <td>3578.270000</td>\n",
       "      <td>0.400000</td>\n",
       "      <td>27893.619000</td>\n",
       "      <td>2014-06-30 00:00:00</td>\n",
       "    </tr>\n",
       "    <tr>\n",
       "      <th>std</th>\n",
       "      <td>9009.147902</td>\n",
       "      <td>35021.345641</td>\n",
       "      <td>2.491323</td>\n",
       "      <td>86.452124</td>\n",
       "      <td>1.218604</td>\n",
       "      <td>751.885081</td>\n",
       "      <td>0.024811</td>\n",
       "      <td>1693.417389</td>\n",
       "      <td>NaN</td>\n",
       "    </tr>\n",
       "  </tbody>\n",
       "</table>\n",
       "</div>"
      ],
      "text/plain": [
       "        SalesOrderID  SalesOrderDetailID       OrderQty      ProductID  \\\n",
       "count  121317.000000       121317.000000  121317.000000  121317.000000   \n",
       "mean    57827.363782        60659.000000       2.266080     841.680836   \n",
       "min     43659.000000            1.000000       1.000000     707.000000   \n",
       "25%     49884.000000        30330.000000       1.000000     768.000000   \n",
       "50%     57029.000000        60659.000000       1.000000     863.000000   \n",
       "75%     65490.000000        90988.000000       3.000000     921.000000   \n",
       "max     75123.000000       121317.000000      44.000000     999.000000   \n",
       "std      9009.147902        35021.345641       2.491323      86.452124   \n",
       "\n",
       "       SpecialOfferID      UnitPrice  UnitPriceDiscount      LineTotal  \\\n",
       "count   121317.000000  121317.000000      121317.000000  121317.000000   \n",
       "mean         1.162541     465.093496           0.002826     905.449207   \n",
       "min          1.000000       1.328200           0.000000       1.374000   \n",
       "25%          1.000000      21.490000           0.000000      24.990000   \n",
       "50%          1.000000      49.990000           0.000000     134.982000   \n",
       "75%          1.000000     602.346000           0.000000    1120.490000   \n",
       "max         16.000000    3578.270000           0.400000   27893.619000   \n",
       "std          1.218604     751.885081           0.024811    1693.417389   \n",
       "\n",
       "                        ModifiedDate  \n",
       "count                         121317  \n",
       "mean   2013-07-15 19:44:52.321768704  \n",
       "min              2011-05-31 00:00:00  \n",
       "25%              2013-02-28 00:00:00  \n",
       "50%              2013-09-30 00:00:00  \n",
       "75%              2014-01-31 00:00:00  \n",
       "max              2014-06-30 00:00:00  \n",
       "std                              NaN  "
      ]
     },
     "execution_count": 15,
     "metadata": {},
     "output_type": "execute_result"
    }
   ],
   "source": [
    "# Getting descriptive statistics of all column of the table SalesOrderDetail\n",
    "df1.describe()"
   ]
  },
  {
   "cell_type": "code",
   "execution_count": 16,
   "id": "a8db3a27",
   "metadata": {},
   "outputs": [
    {
     "data": {
      "text/plain": [
       "<matplotlib.legend.Legend at 0x22d44374ad0>"
      ]
     },
     "execution_count": 16,
     "metadata": {},
     "output_type": "execute_result"
    },
    {
     "data": {
      "image/png": "[encoded data removed]",
      "text/plain": [
       "<Figure size 640x480 with 1 Axes>"
      ]
     },
     "metadata": {},
     "output_type": "display_data"
    }
   ],
   "source": [
    "# Executing matplotlib inline so that we can see the plot of the describe function\n",
    "df1.describe().plot().legend(loc='center left', bbox_to_anchor=(1, 0.5))"
   ]
  },
  {
   "cell_type": "code",
   "execution_count": 17,
   "id": "d937ea0c",
   "metadata": {},
   "outputs": [
    {
     "data": {
      "text/plain": [
       "count    121317.000000\n",
       "mean          2.266080\n",
       "std           2.491323\n",
       "min           1.000000\n",
       "25%           1.000000\n",
       "50%           1.000000\n",
       "75%           3.000000\n",
       "max          44.000000\n",
       "Name: OrderQty, dtype: float64"
      ]
     },
     "execution_count": 17,
     "metadata": {},
     "output_type": "execute_result"
    }
   ],
   "source": [
    "# Getting summary statistics of OrderQty column\n",
    "df1.OrderQty.describe()"
   ]
  },
  {
   "cell_type": "code",
   "execution_count": 18,
   "id": "56b0f8b3",
   "metadata": {},
   "outputs": [
    {
     "name": "stdout",
     "output_type": "stream",
     "text": [
      "274914\n"
     ]
    }
   ],
   "source": [
    "# Summation of order quantity\n",
    "total_order_quantity= df1['OrderQty'].sum()\n",
    "print(total_order_quantity)"
   ]
  },
  {
   "cell_type": "code",
   "execution_count": 23,
   "id": "89543509",
   "metadata": {},
   "outputs": [
    {
     "data": {
      "text/plain": [
       "2.2660797744751355"
      ]
     },
     "execution_count": 23,
     "metadata": {},
     "output_type": "execute_result"
    }
   ],
   "source": [
    "# Average order quantity\n",
    "df1[\"OrderQty\"].mean()"
   ]
  },
  {
   "cell_type": "code",
   "execution_count": 24,
   "id": "83389c29",
   "metadata": {},
   "outputs": [
    {
     "data": {
      "text/plain": [
       "56423747.6147"
      ]
     },
     "execution_count": 24,
     "metadata": {},
     "output_type": "execute_result"
    }
   ],
   "source": [
    "# Summation of unit price in the table SalesOrderDetail\n",
    "df1['UnitPrice'].sum()"
   ]
  },
  {
   "cell_type": "code",
   "execution_count": 25,
   "id": "15b92c55",
   "metadata": {},
   "outputs": [
    {
     "data": {
      "text/plain": [
       "465.0934956741429"
      ]
     },
     "execution_count": 25,
     "metadata": {},
     "output_type": "execute_result"
    }
   ],
   "source": [
    "# Average unit price\n",
    "df1[\"UnitPrice\"].mean()"
   ]
  },
  {
   "cell_type": "code",
   "execution_count": 20,
   "id": "500c087e",
   "metadata": {},
   "outputs": [
    {
     "data": {
      "text/plain": [
       "ProductID\n",
       "870    4688\n",
       "712    3382\n",
       "873    3354\n",
       "921    3095\n",
       "711    3090\n",
       "707    3083\n",
       "708    3007\n",
       "922    2376\n",
       "878    2121\n",
       "871    2025\n",
       "Name: count, dtype: int64"
      ]
     },
     "execution_count": 20,
     "metadata": {},
     "output_type": "execute_result"
    }
   ],
   "source": [
    "# Top 10 products sold having product ID\n",
    "df1.value_counts('ProductID').head(10)"
   ]
  },
  {
   "cell_type": "markdown",
   "id": "45833acb",
   "metadata": {},
   "source": [
    "## Sales.Salesorderheader Table"
   ]
  },
  {
   "cell_type": "code",
   "execution_count": 25,
   "id": "14b1ba53",
   "metadata": {},
   "outputs": [
    {
     "name": "stdout",
     "output_type": "stream",
     "text": [
      "       salesorderid  customerid  orderdate     subtotal  Tax_percent\n",
      "0             51131       29641 2013-05-30  163930.3943      10.9488\n",
      "1             55282       29641 2013-08-30  160378.3913      10.2805\n",
      "2             46616       29614 2012-05-30  150837.4387       9.9382\n",
      "3             46981       30103 2012-06-30  147390.9328       9.8971\n",
      "4             47395       29701 2012-07-31  146154.5653       9.8391\n",
      "...             ...         ...        ...          ...          ...\n",
      "31460         52682       11142 2013-07-16       2.2900       8.0000\n",
      "31461         52031       19088 2013-07-03       2.2900       8.0000\n",
      "31462         51885       15640 2013-06-30       2.2900       8.0000\n",
      "31463         51886       18293 2013-06-30       2.2900       8.0000\n",
      "31464         51782       30078 2013-06-30       1.3740       7.9985\n",
      "\n",
      "[31465 rows x 5 columns]\n"
     ]
    }
   ],
   "source": [
    "# Calculate the percentage of tax on the subtotal\n",
    "tax_query = \"\"\"\n",
    "SELECT salesorderid,customerid,orderdate,subtotal,\n",
    "(taxamt*100)/subtotal AS Tax_percent\n",
    "FROM sales.salesorderheader\n",
    "ORDER BY subtotal desc;\"\"\"\n",
    "tax_data = pd.read_sql(tax_query, con=connection)\n",
    "print(tax_data)"
   ]
  },
  {
   "cell_type": "code",
   "execution_count": 26,
   "id": "a5e5c128",
   "metadata": {
    "scrolled": false
   },
   "outputs": [
    {
     "data": {
      "text/plain": [
       "subtotal       1.098464e+08\n",
       "Tax_percent    2.582642e+05\n",
       "dtype: float64"
      ]
     },
     "execution_count": 26,
     "metadata": {},
     "output_type": "execute_result"
    }
   ],
   "source": [
    "# Total subtotal and tax percentage\n",
    "tax_data[[\"subtotal\",\"Tax_percent\"]].sum()"
   ]
  },
  {
   "cell_type": "code",
   "execution_count": 38,
   "id": "57c3ef0a",
   "metadata": {},
   "outputs": [
    {
     "name": "stdout",
     "output_type": "stream",
     "text": [
      "   Average Sales Per Person\n",
      "0                       223\n"
     ]
    }
   ],
   "source": [
    "# Average number of sales orders for all the years of the sales representatives\n",
    "average_sale_query = \"\"\"\n",
    "WITH Sales_CTE (SalesPersonID, NumberOfOrders)\n",
    "AS\n",
    "(\n",
    "    SELECT SalesPersonID, COUNT(*)\n",
    "    FROM Sales.SalesOrderHeader\n",
    "    WHERE SalesPersonID IS NOT NULL\n",
    "    GROUP BY SalesPersonID\n",
    ")\n",
    "SELECT AVG(NumberOfOrders) AS \"Average Sales Per Person\"\n",
    "FROM Sales_CTE;\"\"\"\n",
    "average_sale_data = pd.read_sql(average_sale_query, con=connection)\n",
    "print(average_sale_data)"
   ]
  },
  {
   "cell_type": "code",
   "execution_count": 27,
   "id": "d8f18746",
   "metadata": {},
   "outputs": [
    {
     "name": "stdout",
     "output_type": "stream",
     "text": [
      "       customerid  total_freight\n",
      "0           11000       206.2249\n",
      "1           11001       159.5971\n",
      "2           11002       202.8511\n",
      "3           11003       203.4823\n",
      "4           11004       204.9003\n",
      "...           ...            ...\n",
      "19114       30114       352.8671\n",
      "19115       30115       265.7756\n",
      "19116       30116      5846.9206\n",
      "19117       30117     24534.8197\n",
      "19118       30118      8357.8488\n",
      "\n",
      "[19119 rows x 2 columns]\n"
     ]
    }
   ],
   "source": [
    "# Calculate the total freight paid by each customer\n",
    "total_freight_query = \"\"\"\n",
    "SELECT customerid,sum(freight) as total_freight \n",
    "FROM sales.salesorderheader\n",
    "group by customerid\n",
    "ORDER BY customerid ASC;\"\"\"\n",
    "freight_data = pd.read_sql(total_freight_query, con=connection)\n",
    "print(freight_data)"
   ]
  },
  {
   "cell_type": "code",
   "execution_count": 28,
   "id": "ff9e64dc",
   "metadata": {},
   "outputs": [
    {
     "data": {
      "text/plain": [
       "3183430.2518"
      ]
     },
     "execution_count": 28,
     "metadata": {},
     "output_type": "execute_result"
    }
   ],
   "source": [
    "# Total freight paid\n",
    "freight_data['total_freight'].sum()"
   ]
  },
  {
   "cell_type": "markdown",
   "id": "df790142",
   "metadata": {},
   "source": [
    "## Sales.SalesPerson Table"
   ]
  },
  {
   "cell_type": "code",
   "execution_count": 44,
   "id": "93f354de",
   "metadata": {},
   "outputs": [
    {
     "name": "stdout",
     "output_type": "stream",
     "text": [
      "     TerritoryName  BusinessEntityID      SalesYTD  PrevRepSales\n",
      "0        Australia               286  1.421811e+06  0.000000e+00\n",
      "1           Canada               282  2.604541e+06  0.000000e+00\n",
      "2           Canada               278  1.453719e+06  2.604541e+06\n",
      "3          Central               277  3.189418e+06  0.000000e+00\n",
      "4           France               290  3.121616e+06  0.000000e+00\n",
      "5          Germany               288  1.827067e+06  0.000000e+00\n",
      "6        Northeast               275  3.763178e+06  0.000000e+00\n",
      "7        Northwest               284  1.576562e+06  0.000000e+00\n",
      "8        Northwest               283  1.573013e+06  1.576562e+06\n",
      "9        Northwest               280  1.352577e+06  1.573013e+06\n",
      "10       Southeast               279  2.315186e+06  0.000000e+00\n",
      "11       Southwest               276  4.251369e+06  0.000000e+00\n",
      "12       Southwest               281  2.458536e+06  4.251369e+06\n",
      "13  United Kingdom               289  4.116871e+06  0.000000e+00\n"
     ]
    }
   ],
   "source": [
    "# Compare year-to-date sales between employees\n",
    "sales_compare_query = \"\"\"\n",
    "SELECT TerritoryName, BusinessEntityID, SalesYTD,   \n",
    "       LAG (SalesYTD, 1, 0) OVER (PARTITION BY TerritoryName ORDER BY SalesYTD DESC) AS PrevRepSales  \n",
    "FROM Sales.vSalesPerson  \n",
    "WHERE TerritoryName IS NOT NULL\n",
    "ORDER BY TerritoryName;\"\"\"\n",
    "sales_compare_data = pd.read_sql(sales_compare_query, con=connection)\n",
    "print(sales_compare_data)"
   ]
  },
  {
   "cell_type": "markdown",
   "id": "649f3005",
   "metadata": {},
   "source": [
    "## Sales.SalesTerritory Table"
   ]
  },
  {
   "cell_type": "code",
   "execution_count": 3,
   "id": "8e845613",
   "metadata": {},
   "outputs": [],
   "source": [
    "# Calling a table using data frame df2\n",
    "df2 = pd.read_sql(sql=\"SELECT * from Sales.SalesTerritory\", con=connection)"
   ]
  },
  {
   "cell_type": "code",
   "execution_count": 29,
   "id": "0b29248b",
   "metadata": {},
   "outputs": [
    {
     "data": {
      "text/html": [
       "<div>\n",
       "<style scoped>\n",
       "    .dataframe tbody tr th:only-of-type {\n",
       "        vertical-align: middle;\n",
       "    }\n",
       "\n",
       "    .dataframe tbody tr th {\n",
       "        vertical-align: top;\n",
       "    }\n",
       "\n",
       "    .dataframe thead th {\n",
       "        text-align: right;\n",
       "    }\n",
       "</style>\n",
       "<table border=\"1\" class=\"dataframe\">\n",
       "  <thead>\n",
       "    <tr style=\"text-align: right;\">\n",
       "      <th></th>\n",
       "      <th>SalesYTD</th>\n",
       "    </tr>\n",
       "    <tr>\n",
       "      <th>Group</th>\n",
       "      <th></th>\n",
       "    </tr>\n",
       "  </thead>\n",
       "  <tbody>\n",
       "    <tr>\n",
       "      <th>North America</th>\n",
       "      <td>3.318289e+07</td>\n",
       "    </tr>\n",
       "    <tr>\n",
       "      <th>Europe</th>\n",
       "      <td>1.359051e+07</td>\n",
       "    </tr>\n",
       "    <tr>\n",
       "      <th>Pacific</th>\n",
       "      <td>5.977815e+06</td>\n",
       "    </tr>\n",
       "  </tbody>\n",
       "</table>\n",
       "</div>"
      ],
      "text/plain": [
       "                   SalesYTD\n",
       "Group                      \n",
       "North America  3.318289e+07\n",
       "Europe         1.359051e+07\n",
       "Pacific        5.977815e+06"
      ]
     },
     "execution_count": 29,
     "metadata": {},
     "output_type": "execute_result"
    }
   ],
   "source": [
    "# SalesYTD by region\n",
    "region_sales = pd.DataFrame(df2.groupby(by=['Group'])['SalesYTD'].sum())\n",
    "region_sales.sort_values(ascending=False, by='SalesYTD')"
   ]
  },
  {
   "cell_type": "code",
   "execution_count": 30,
   "id": "5333062e",
   "metadata": {},
   "outputs": [
    {
     "data": {
      "image/png": "[encoded data removed]",
      "text/plain": [
       "<Figure size 640x480 with 1 Axes>"
      ]
     },
     "metadata": {},
     "output_type": "display_data"
    }
   ],
   "source": [
    "# Bar graph for Region Sales\n",
    "region_sales.plot(kind='bar', xlabel= 'Region', ylabel='SalesYTD', title='Region Sales YTD');"
   ]
  },
  {
   "cell_type": "code",
   "execution_count": 31,
   "id": "56244134",
   "metadata": {},
   "outputs": [
    {
     "data": {
      "text/html": [
       "<div>\n",
       "<style scoped>\n",
       "    .dataframe tbody tr th:only-of-type {\n",
       "        vertical-align: middle;\n",
       "    }\n",
       "\n",
       "    .dataframe tbody tr th {\n",
       "        vertical-align: top;\n",
       "    }\n",
       "\n",
       "    .dataframe thead th {\n",
       "        text-align: right;\n",
       "    }\n",
       "</style>\n",
       "<table border=\"1\" class=\"dataframe\">\n",
       "  <thead>\n",
       "    <tr style=\"text-align: right;\">\n",
       "      <th></th>\n",
       "      <th>SalesLastYear</th>\n",
       "    </tr>\n",
       "    <tr>\n",
       "      <th>Group</th>\n",
       "      <th></th>\n",
       "    </tr>\n",
       "  </thead>\n",
       "  <tbody>\n",
       "    <tr>\n",
       "      <th>North America</th>\n",
       "      <td>2.509649e+07</td>\n",
       "    </tr>\n",
       "    <tr>\n",
       "      <th>Europe</th>\n",
       "      <td>5.340313e+06</td>\n",
       "    </tr>\n",
       "    <tr>\n",
       "      <th>Pacific</th>\n",
       "      <td>2.278549e+06</td>\n",
       "    </tr>\n",
       "  </tbody>\n",
       "</table>\n",
       "</div>"
      ],
      "text/plain": [
       "               SalesLastYear\n",
       "Group                       \n",
       "North America   2.509649e+07\n",
       "Europe          5.340313e+06\n",
       "Pacific         2.278549e+06"
      ]
     },
     "execution_count": 31,
     "metadata": {},
     "output_type": "execute_result"
    }
   ],
   "source": [
    "# Sales last year by region\n",
    "region_revenue = pd.DataFrame(df2.groupby(by=['Group'])['SalesLastYear'].sum())\n",
    "region_revenue.sort_values(ascending=False, by='SalesLastYear')"
   ]
  },
  {
   "cell_type": "code",
   "execution_count": 32,
   "id": "5cf5b601",
   "metadata": {},
   "outputs": [
    {
     "data": {
      "image/png": "[encoded data removed]",
      "text/plain": [
       "<Figure size 640x480 with 1 Axes>"
      ]
     },
     "metadata": {},
     "output_type": "display_data"
    }
   ],
   "source": [
    "# Bar graph for Region LastYearSale\n",
    "region_sales.plot(kind='bar', xlabel= 'Region', ylabel='SalesLastYear', title='Region Sales Last Year');"
   ]
  },
  {
   "cell_type": "code",
   "execution_count": 33,
   "id": "5ca83573",
   "metadata": {},
   "outputs": [
    {
     "data": {
      "text/html": [
       "<div>\n",
       "<style scoped>\n",
       "    .dataframe tbody tr th:only-of-type {\n",
       "        vertical-align: middle;\n",
       "    }\n",
       "\n",
       "    .dataframe tbody tr th {\n",
       "        vertical-align: top;\n",
       "    }\n",
       "\n",
       "    .dataframe thead th {\n",
       "        text-align: right;\n",
       "    }\n",
       "</style>\n",
       "<table border=\"1\" class=\"dataframe\">\n",
       "  <thead>\n",
       "    <tr style=\"text-align: right;\">\n",
       "      <th></th>\n",
       "      <th>SalesYTD</th>\n",
       "    </tr>\n",
       "    <tr>\n",
       "      <th>Name</th>\n",
       "      <th></th>\n",
       "    </tr>\n",
       "  </thead>\n",
       "  <tbody>\n",
       "    <tr>\n",
       "      <th>Southwest</th>\n",
       "      <td>1.051085e+07</td>\n",
       "    </tr>\n",
       "    <tr>\n",
       "      <th>Northwest</th>\n",
       "      <td>7.887187e+06</td>\n",
       "    </tr>\n",
       "    <tr>\n",
       "      <th>Canada</th>\n",
       "      <td>6.771829e+06</td>\n",
       "    </tr>\n",
       "    <tr>\n",
       "      <th>Australia</th>\n",
       "      <td>5.977815e+06</td>\n",
       "    </tr>\n",
       "    <tr>\n",
       "      <th>United Kingdom</th>\n",
       "      <td>5.012905e+06</td>\n",
       "    </tr>\n",
       "    <tr>\n",
       "      <th>France</th>\n",
       "      <td>4.772398e+06</td>\n",
       "    </tr>\n",
       "    <tr>\n",
       "      <th>Germany</th>\n",
       "      <td>3.805202e+06</td>\n",
       "    </tr>\n",
       "    <tr>\n",
       "      <th>Central</th>\n",
       "      <td>3.072175e+06</td>\n",
       "    </tr>\n",
       "    <tr>\n",
       "      <th>Southeast</th>\n",
       "      <td>2.538667e+06</td>\n",
       "    </tr>\n",
       "    <tr>\n",
       "      <th>Northeast</th>\n",
       "      <td>2.402177e+06</td>\n",
       "    </tr>\n",
       "  </tbody>\n",
       "</table>\n",
       "</div>"
      ],
      "text/plain": [
       "                    SalesYTD\n",
       "Name                        \n",
       "Southwest       1.051085e+07\n",
       "Northwest       7.887187e+06\n",
       "Canada          6.771829e+06\n",
       "Australia       5.977815e+06\n",
       "United Kingdom  5.012905e+06\n",
       "France          4.772398e+06\n",
       "Germany         3.805202e+06\n",
       "Central         3.072175e+06\n",
       "Southeast       2.538667e+06\n",
       "Northeast       2.402177e+06"
      ]
     },
     "execution_count": 33,
     "metadata": {},
     "output_type": "execute_result"
    }
   ],
   "source": [
    "# SalesYTD by country\n",
    "country_sales = pd.DataFrame(df2.groupby(by=['Name'])['SalesYTD'].sum())\n",
    "country_sales.sort_values(ascending=False, by='SalesYTD')"
   ]
  },
  {
   "cell_type": "code",
   "execution_count": 34,
   "id": "c7703fde",
   "metadata": {},
   "outputs": [
    {
     "data": {
      "image/png": "[encoded data removed]",
      "text/plain": [
       "<Figure size 640x480 with 1 Axes>"
      ]
     },
     "metadata": {},
     "output_type": "display_data"
    }
   ],
   "source": [
    "# Bar graph for countrywise sale YTD\n",
    "country_sales.plot(kind='bar', xlabel= 'Country', ylabel='SalesYTD', title='Countrywise Sales YTD');"
   ]
  },
  {
   "cell_type": "code",
   "execution_count": 35,
   "id": "40dfcf60",
   "metadata": {},
   "outputs": [
    {
     "data": {
      "image/png": "[encoded data removed]",
      "text/plain": [
       "<Figure size 640x480 with 1 Axes>"
      ]
     },
     "metadata": {},
     "output_type": "display_data"
    }
   ],
   "source": [
    "# Circle chart for countrywise sale YTD in percentage\n",
    "#colors\n",
    "colors = ['#ff9999','#66b3ff','#99ff99','#ffcc99']\n",
    "#explsion\n",
    "explode = None\n",
    " \n",
    "plt.pie(df2['SalesYTD'], colors = colors,shadow='True', labels=df2['Name'], autopct='%1.1f%%', startangle=270, pctdistance=0.85, explode = explode)\n",
    "#draw circle\n",
    "centre_circle = plt.Circle((0,0),0.7,fc='white')\n",
    "fig = plt.gcf()\n",
    "fig.gca().add_artist(centre_circle)\n",
    "# Equal aspect ratio ensures that pie is drawn as a circle\n",
    "plt.axis('equal')  \n",
    "plt.tight_layout()\n",
    "plt.title('Countrywise SalesYTD in percentage',color='red')\n",
    "plt.legend()\n",
    "plt.show()"
   ]
  },
  {
   "cell_type": "code",
   "execution_count": 36,
   "id": "2eb86016",
   "metadata": {},
   "outputs": [
    {
     "data": {
      "text/html": [
       "<div>\n",
       "<style scoped>\n",
       "    .dataframe tbody tr th:only-of-type {\n",
       "        vertical-align: middle;\n",
       "    }\n",
       "\n",
       "    .dataframe tbody tr th {\n",
       "        vertical-align: top;\n",
       "    }\n",
       "\n",
       "    .dataframe thead th {\n",
       "        text-align: right;\n",
       "    }\n",
       "</style>\n",
       "<table border=\"1\" class=\"dataframe\">\n",
       "  <thead>\n",
       "    <tr style=\"text-align: right;\">\n",
       "      <th></th>\n",
       "      <th>SalesLastYear</th>\n",
       "    </tr>\n",
       "    <tr>\n",
       "      <th>Name</th>\n",
       "      <th></th>\n",
       "    </tr>\n",
       "  </thead>\n",
       "  <tbody>\n",
       "    <tr>\n",
       "      <th>Canada</th>\n",
       "      <td>5.693989e+06</td>\n",
       "    </tr>\n",
       "    <tr>\n",
       "      <th>Southwest</th>\n",
       "      <td>5.366576e+06</td>\n",
       "    </tr>\n",
       "    <tr>\n",
       "      <th>Southeast</th>\n",
       "      <td>3.925071e+06</td>\n",
       "    </tr>\n",
       "    <tr>\n",
       "      <th>Northeast</th>\n",
       "      <td>3.607149e+06</td>\n",
       "    </tr>\n",
       "    <tr>\n",
       "      <th>Northwest</th>\n",
       "      <td>3.298694e+06</td>\n",
       "    </tr>\n",
       "    <tr>\n",
       "      <th>Central</th>\n",
       "      <td>3.205014e+06</td>\n",
       "    </tr>\n",
       "    <tr>\n",
       "      <th>France</th>\n",
       "      <td>2.396540e+06</td>\n",
       "    </tr>\n",
       "    <tr>\n",
       "      <th>Australia</th>\n",
       "      <td>2.278549e+06</td>\n",
       "    </tr>\n",
       "    <tr>\n",
       "      <th>United Kingdom</th>\n",
       "      <td>1.635823e+06</td>\n",
       "    </tr>\n",
       "    <tr>\n",
       "      <th>Germany</th>\n",
       "      <td>1.307950e+06</td>\n",
       "    </tr>\n",
       "  </tbody>\n",
       "</table>\n",
       "</div>"
      ],
      "text/plain": [
       "                SalesLastYear\n",
       "Name                         \n",
       "Canada           5.693989e+06\n",
       "Southwest        5.366576e+06\n",
       "Southeast        3.925071e+06\n",
       "Northeast        3.607149e+06\n",
       "Northwest        3.298694e+06\n",
       "Central          3.205014e+06\n",
       "France           2.396540e+06\n",
       "Australia        2.278549e+06\n",
       "United Kingdom   1.635823e+06\n",
       "Germany          1.307950e+06"
      ]
     },
     "execution_count": 36,
     "metadata": {},
     "output_type": "execute_result"
    }
   ],
   "source": [
    "# Last year sale by country\n",
    "country_sales_lastyear = pd.DataFrame(df2.groupby(by=['Name'])['SalesLastYear'].sum())\n",
    "country_sales_lastyear.sort_values(ascending=False, by='SalesLastYear')"
   ]
  },
  {
   "cell_type": "code",
   "execution_count": 37,
   "id": "bc451416",
   "metadata": {},
   "outputs": [
    {
     "data": {
      "image/png": "[encoded data removed]",
      "text/plain": [
       "<Figure size 640x480 with 1 Axes>"
      ]
     },
     "metadata": {},
     "output_type": "display_data"
    }
   ],
   "source": [
    "# Bar chart for countrywise sale for last year\n",
    "country_sales_lastyear.plot(kind='bar', xlabel= 'Country', ylabel='SalesLastYear', title='Countrywise Sales Last Year');"
   ]
  },
  {
   "cell_type": "code",
   "execution_count": 5,
   "id": "1b4c0e80",
   "metadata": {},
   "outputs": [
    {
     "data": {
      "image/png": "[encoded data removed]",
      "text/plain": [
       "<Figure size 640x480 with 1 Axes>"
      ]
     },
     "metadata": {},
     "output_type": "display_data"
    }
   ],
   "source": [
    "# Circle chart for countrywise sale for last year in percentage\n",
    "#colors\n",
    "colors = ['#ff9999','#66b3ff','#99ff99','#ffcc99']\n",
    "#explsion\n",
    "explode = None\n",
    " \n",
    "plt.pie(df2['SalesLastYear'], colors = colors,shadow='True', labels=df2['Name'], autopct='%1.1f%%', startangle=270, pctdistance=0.85, explode = explode)\n",
    "#draw circle\n",
    "centre_circle = plt.Circle((0,0),0.70,fc='white')\n",
    "fig = plt.gcf()\n",
    "fig.gca().add_artist(centre_circle)\n",
    "# Equal aspect ratio ensures that pie is drawn as a circle\n",
    "plt.axis('equal')  \n",
    "plt.tight_layout()\n",
    "plt.title('Countrywise Sales Last Year in Percentage',color='purple')\n",
    "plt.legend()\n",
    "plt.show()"
   ]
  },
  {
   "cell_type": "markdown",
   "id": "60d1d3c6",
   "metadata": {},
   "source": [
    "## Sales.Customer Table"
   ]
  },
  {
   "cell_type": "code",
   "execution_count": 14,
   "id": "74b231f7",
   "metadata": {},
   "outputs": [
    {
     "data": {
      "text/html": [
       "<div>\n",
       "<style scoped>\n",
       "    .dataframe tbody tr th:only-of-type {\n",
       "        vertical-align: middle;\n",
       "    }\n",
       "\n",
       "    .dataframe tbody tr th {\n",
       "        vertical-align: top;\n",
       "    }\n",
       "\n",
       "    .dataframe thead th {\n",
       "        text-align: right;\n",
       "    }\n",
       "</style>\n",
       "<table border=\"1\" class=\"dataframe\">\n",
       "  <thead>\n",
       "    <tr style=\"text-align: right;\">\n",
       "      <th></th>\n",
       "      <th>CustomerID</th>\n",
       "      <th>PersonID</th>\n",
       "      <th>StoreID</th>\n",
       "      <th>TerritoryID</th>\n",
       "      <th>AccountNumber</th>\n",
       "      <th>rowguid</th>\n",
       "      <th>ModifiedDate</th>\n",
       "    </tr>\n",
       "  </thead>\n",
       "  <tbody>\n",
       "    <tr>\n",
       "      <th>0</th>\n",
       "      <td>1</td>\n",
       "      <td>NaN</td>\n",
       "      <td>934.0</td>\n",
       "      <td>1</td>\n",
       "      <td>AW00000001</td>\n",
       "      <td>3F5AE95E-B87D-4AED-95B4-C3797AFCB74F</td>\n",
       "      <td>2014-09-12 11:15:07.263</td>\n",
       "    </tr>\n",
       "    <tr>\n",
       "      <th>1</th>\n",
       "      <td>2</td>\n",
       "      <td>NaN</td>\n",
       "      <td>1028.0</td>\n",
       "      <td>1</td>\n",
       "      <td>AW00000002</td>\n",
       "      <td>E552F657-A9AF-4A7D-A645-C429D6E02491</td>\n",
       "      <td>2014-09-12 11:15:07.263</td>\n",
       "    </tr>\n",
       "    <tr>\n",
       "      <th>2</th>\n",
       "      <td>3</td>\n",
       "      <td>NaN</td>\n",
       "      <td>642.0</td>\n",
       "      <td>4</td>\n",
       "      <td>AW00000003</td>\n",
       "      <td>130774B1-DB21-4EF3-98C8-C104BCD6ED6D</td>\n",
       "      <td>2014-09-12 11:15:07.263</td>\n",
       "    </tr>\n",
       "    <tr>\n",
       "      <th>3</th>\n",
       "      <td>4</td>\n",
       "      <td>NaN</td>\n",
       "      <td>932.0</td>\n",
       "      <td>4</td>\n",
       "      <td>AW00000004</td>\n",
       "      <td>FF862851-1DAA-4044-BE7C-3E85583C054D</td>\n",
       "      <td>2014-09-12 11:15:07.263</td>\n",
       "    </tr>\n",
       "    <tr>\n",
       "      <th>4</th>\n",
       "      <td>5</td>\n",
       "      <td>NaN</td>\n",
       "      <td>1026.0</td>\n",
       "      <td>4</td>\n",
       "      <td>AW00000005</td>\n",
       "      <td>83905BDC-6F5E-4F71-B162-C98DA069F38A</td>\n",
       "      <td>2014-09-12 11:15:07.263</td>\n",
       "    </tr>\n",
       "    <tr>\n",
       "      <th>5</th>\n",
       "      <td>6</td>\n",
       "      <td>NaN</td>\n",
       "      <td>644.0</td>\n",
       "      <td>4</td>\n",
       "      <td>AW00000006</td>\n",
       "      <td>1A92DF88-BFA2-467D-BD54-FCB9E647FDD7</td>\n",
       "      <td>2014-09-12 11:15:07.263</td>\n",
       "    </tr>\n",
       "    <tr>\n",
       "      <th>6</th>\n",
       "      <td>7</td>\n",
       "      <td>NaN</td>\n",
       "      <td>930.0</td>\n",
       "      <td>1</td>\n",
       "      <td>AW00000007</td>\n",
       "      <td>03E9273E-B193-448E-9823-FE0C44AEED78</td>\n",
       "      <td>2014-09-12 11:15:07.263</td>\n",
       "    </tr>\n",
       "    <tr>\n",
       "      <th>7</th>\n",
       "      <td>8</td>\n",
       "      <td>NaN</td>\n",
       "      <td>1024.0</td>\n",
       "      <td>5</td>\n",
       "      <td>AW00000008</td>\n",
       "      <td>801368B1-4323-4BFA-8BEA-5B5B1E4BD4A0</td>\n",
       "      <td>2014-09-12 11:15:07.263</td>\n",
       "    </tr>\n",
       "    <tr>\n",
       "      <th>8</th>\n",
       "      <td>9</td>\n",
       "      <td>NaN</td>\n",
       "      <td>620.0</td>\n",
       "      <td>5</td>\n",
       "      <td>AW00000009</td>\n",
       "      <td>B900BB7F-23C3-481D-80DA-C49A5BD6F772</td>\n",
       "      <td>2014-09-12 11:15:07.263</td>\n",
       "    </tr>\n",
       "    <tr>\n",
       "      <th>9</th>\n",
       "      <td>10</td>\n",
       "      <td>NaN</td>\n",
       "      <td>928.0</td>\n",
       "      <td>6</td>\n",
       "      <td>AW00000010</td>\n",
       "      <td>CDB6698D-2FF1-4FBA-8F22-60AD1D11DABD</td>\n",
       "      <td>2014-09-12 11:15:07.263</td>\n",
       "    </tr>\n",
       "  </tbody>\n",
       "</table>\n",
       "</div>"
      ],
      "text/plain": [
       "   CustomerID  PersonID  StoreID  TerritoryID AccountNumber  \\\n",
       "0           1       NaN    934.0            1    AW00000001   \n",
       "1           2       NaN   1028.0            1    AW00000002   \n",
       "2           3       NaN    642.0            4    AW00000003   \n",
       "3           4       NaN    932.0            4    AW00000004   \n",
       "4           5       NaN   1026.0            4    AW00000005   \n",
       "5           6       NaN    644.0            4    AW00000006   \n",
       "6           7       NaN    930.0            1    AW00000007   \n",
       "7           8       NaN   1024.0            5    AW00000008   \n",
       "8           9       NaN    620.0            5    AW00000009   \n",
       "9          10       NaN    928.0            6    AW00000010   \n",
       "\n",
       "                                rowguid            ModifiedDate  \n",
       "0  3F5AE95E-B87D-4AED-95B4-C3797AFCB74F 2014-09-12 11:15:07.263  \n",
       "1  E552F657-A9AF-4A7D-A645-C429D6E02491 2014-09-12 11:15:07.263  \n",
       "2  130774B1-DB21-4EF3-98C8-C104BCD6ED6D 2014-09-12 11:15:07.263  \n",
       "3  FF862851-1DAA-4044-BE7C-3E85583C054D 2014-09-12 11:15:07.263  \n",
       "4  83905BDC-6F5E-4F71-B162-C98DA069F38A 2014-09-12 11:15:07.263  \n",
       "5  1A92DF88-BFA2-467D-BD54-FCB9E647FDD7 2014-09-12 11:15:07.263  \n",
       "6  03E9273E-B193-448E-9823-FE0C44AEED78 2014-09-12 11:15:07.263  \n",
       "7  801368B1-4323-4BFA-8BEA-5B5B1E4BD4A0 2014-09-12 11:15:07.263  \n",
       "8  B900BB7F-23C3-481D-80DA-C49A5BD6F772 2014-09-12 11:15:07.263  \n",
       "9  CDB6698D-2FF1-4FBA-8F22-60AD1D11DABD 2014-09-12 11:15:07.263  "
      ]
     },
     "execution_count": 14,
     "metadata": {},
     "output_type": "execute_result"
    }
   ],
   "source": [
    "df12=pd.read_sql('SELECT * FROM Sales.Customer', con=connection)\n",
    "df12.head(10)"
   ]
  },
  {
   "cell_type": "code",
   "execution_count": 15,
   "id": "faea2fa6",
   "metadata": {},
   "outputs": [
    {
     "data": {
      "text/plain": [
       "19820"
      ]
     },
     "execution_count": 15,
     "metadata": {},
     "output_type": "execute_result"
    }
   ],
   "source": [
    "# Counting number of customers\n",
    "df12['CustomerID'].count()"
   ]
  },
  {
   "cell_type": "markdown",
   "id": "3f3bb2cb",
   "metadata": {},
   "source": [
    "## Sales.SpecialOffer Table"
   ]
  },
  {
   "cell_type": "code",
   "execution_count": 16,
   "id": "efced98e",
   "metadata": {},
   "outputs": [],
   "source": [
    "df14=pd.read_sql('SELECT * FROM Sales.SpecialOffer', con=connection)"
   ]
  },
  {
   "cell_type": "code",
   "execution_count": 17,
   "id": "f7763213",
   "metadata": {},
   "outputs": [
    {
     "data": {
      "text/plain": [
       "16"
      ]
     },
     "execution_count": 17,
     "metadata": {},
     "output_type": "execute_result"
    }
   ],
   "source": [
    "# Number of discount given\n",
    "df14['DiscountPct'].count()"
   ]
  },
  {
   "cell_type": "code",
   "execution_count": 18,
   "id": "5fe1c418",
   "metadata": {},
   "outputs": [
    {
     "data": {
      "text/plain": [
       "3.5199999999999996"
      ]
     },
     "execution_count": 18,
     "metadata": {},
     "output_type": "execute_result"
    }
   ],
   "source": [
    "# Summation of discount given in percentage\n",
    "df14['DiscountPct'].sum()"
   ]
  },
  {
   "cell_type": "markdown",
   "id": "a0f5f387",
   "metadata": {},
   "source": [
    "## Sales.Store Table"
   ]
  },
  {
   "cell_type": "code",
   "execution_count": 19,
   "id": "757a409f",
   "metadata": {},
   "outputs": [],
   "source": [
    "df15=pd.read_sql('SELECT * FROM Sales.Store', con=connection)"
   ]
  },
  {
   "cell_type": "code",
   "execution_count": 20,
   "id": "9796bff4",
   "metadata": {},
   "outputs": [
    {
     "data": {
      "text/plain": [
       "Name\n",
       "Sports Products Store             2\n",
       "Friendly Bike Shop                2\n",
       "Rapid Bikes                       1\n",
       "Racing Supply Distributors        1\n",
       "Racing Tours                      1\n",
       "                                 ..\n",
       "Games and Sport Supply Company    1\n",
       "Gasless Cycle Shop                1\n",
       "Gear-Shift Bikes Limited          1\n",
       "Gears and Parts Company           1\n",
       "eCommerce Bikes                   1\n",
       "Name: count, Length: 699, dtype: int64"
      ]
     },
     "execution_count": 20,
     "metadata": {},
     "output_type": "execute_result"
    }
   ],
   "source": [
    "# Number of stores having same name\n",
    "df15.value_counts('Name')"
   ]
  },
  {
   "cell_type": "code",
   "execution_count": 21,
   "id": "4ab4f589",
   "metadata": {},
   "outputs": [
    {
     "data": {
      "text/plain": [
       "701"
      ]
     },
     "execution_count": 21,
     "metadata": {},
     "output_type": "execute_result"
    }
   ],
   "source": [
    "# Number of sales store\n",
    "df15['Name'].count()"
   ]
  },
  {
   "cell_type": "markdown",
   "id": "37f3e880",
   "metadata": {},
   "source": [
    "# Production Schema"
   ]
  },
  {
   "cell_type": "markdown",
   "id": "5ff25d3b",
   "metadata": {},
   "source": [
    "## Production.Product Table"
   ]
  },
  {
   "cell_type": "code",
   "execution_count": 39,
   "id": "d080ac36",
   "metadata": {},
   "outputs": [
    {
     "name": "stdout",
     "output_type": "stream",
     "text": [
      "   AverageListPrice\n",
      "0          437.4042\n"
     ]
    }
   ],
   "source": [
    "# Average list price of products\n",
    "average_list_price_query = \"\"\"\n",
    "SELECT AVG(DISTINCT ListPrice)  AS AverageListPrice\n",
    "FROM Production.Product;\"\"\"\n",
    "average_list_price_data = pd.read_sql(average_list_price_query, con=connection)\n",
    "print(average_list_price_data)"
   ]
  },
  {
   "cell_type": "code",
   "execution_count": 6,
   "id": "9d0c1a54",
   "metadata": {},
   "outputs": [],
   "source": [
    "df8=pd.read_sql('SELECT * from Production.Product', con=connection)"
   ]
  },
  {
   "cell_type": "code",
   "execution_count": 44,
   "id": "cd8c51c0",
   "metadata": {},
   "outputs": [
    {
     "name": "stdout",
     "output_type": "stream",
     "text": [
      "504\n"
     ]
    }
   ],
   "source": [
    "# Finding the total number of product\n",
    "total_product= df8['Name'].count()\n",
    "print(total_product)"
   ]
  },
  {
   "cell_type": "code",
   "execution_count": 45,
   "id": "1668314f",
   "metadata": {
    "scrolled": true
   },
   "outputs": [
    {
     "data": {
      "text/plain": [
       "0            Adjustable Race\n",
       "1               Bearing Ball\n",
       "2            BB Ball Bearing\n",
       "3      Headset Ball Bearings\n",
       "4                      Blade\n",
       "               ...          \n",
       "499        ML Bottom Bracket\n",
       "500        HL Bottom Bracket\n",
       "501       Road-750 Black, 44\n",
       "502       Road-750 Black, 48\n",
       "503       Road-750 Black, 52\n",
       "Name: Name, Length: 504, dtype: object"
      ]
     },
     "execution_count": 45,
     "metadata": {},
     "output_type": "execute_result"
    }
   ],
   "source": [
    "# Name of the products\n",
    "df8['Name']"
   ]
  },
  {
   "cell_type": "code",
   "execution_count": 41,
   "id": "64a66208",
   "metadata": {
    "scrolled": true
   },
   "outputs": [
    {
     "name": "stdout",
     "output_type": "stream",
     "text": [
      "          Color  ListPrice   TotalCost\n",
      "0          None    4182.32   2238.4755\n",
      "1         Black   67436.26  38636.5002\n",
      "2          Blue   24015.66  14746.1464\n",
      "3          Grey     125.00     51.5625\n",
      "4         Multi     478.92    272.2542\n",
      "5           Red   53274.10  32610.7661\n",
      "6        Silver   36563.13  20060.0483\n",
      "7  Silver/Black     448.13    198.9700\n",
      "8         White      36.98     13.5172\n",
      "9        Yellow   34527.29  21507.6521\n"
     ]
    }
   ],
   "source": [
    "# Calculate the sum of the ListPrice and TotalCost for each color\n",
    "color_query = \"\"\"\n",
    "SELECT Color, SUM(ListPrice)AS ListPrice,   \n",
    "       SUM(StandardCost) AS TotalCost  \n",
    "FROM production.product  \n",
    "GROUP BY Color  \n",
    "ORDER BY Color;\"\"\"\n",
    "color_data = pd.read_sql(color_query, con=connection)\n",
    "print(color_data)"
   ]
  },
  {
   "cell_type": "code",
   "execution_count": 42,
   "id": "01129555",
   "metadata": {
    "scrolled": true
   },
   "outputs": [
    {
     "data": {
      "text/plain": [
       "ListPrice    221087.7900\n",
       "TotalCost    130335.8925\n",
       "dtype: float64"
      ]
     },
     "execution_count": 42,
     "metadata": {},
     "output_type": "execute_result"
    }
   ],
   "source": [
    "# Total ListPrice and TotalCost\n",
    "color_data[[\"ListPrice\",\"TotalCost\"]].sum()"
   ]
  },
  {
   "cell_type": "code",
   "execution_count": 43,
   "id": "5f394d3a",
   "metadata": {},
   "outputs": [
    {
     "data": {
      "text/plain": [
       "9"
      ]
     },
     "execution_count": 43,
     "metadata": {},
     "output_type": "execute_result"
    }
   ],
   "source": [
    "# Total number of color\n",
    "color_data['Color'].count()"
   ]
  },
  {
   "cell_type": "markdown",
   "id": "e83b7776",
   "metadata": {},
   "source": [
    "## Production.ProductCategory Table"
   ]
  },
  {
   "cell_type": "code",
   "execution_count": 7,
   "id": "ba437bc7",
   "metadata": {},
   "outputs": [
    {
     "data": {
      "text/plain": [
       "0          Bikes\n",
       "1     Components\n",
       "2       Clothing\n",
       "3    Accessories\n",
       "Name: Name, dtype: object"
      ]
     },
     "execution_count": 7,
     "metadata": {},
     "output_type": "execute_result"
    }
   ],
   "source": [
    "# To see what sorts of products the company is making\n",
    "df9=pd.read_sql('SELECT * from Production.ProductCategory', con=connection)\n",
    "df9['Name']"
   ]
  },
  {
   "cell_type": "markdown",
   "id": "410369e1",
   "metadata": {},
   "source": [
    "## Production.ProductCostHistory Table"
   ]
  },
  {
   "cell_type": "code",
   "execution_count": 47,
   "id": "785ee0ca",
   "metadata": {},
   "outputs": [
    {
     "data": {
      "text/html": [
       "<div>\n",
       "<style scoped>\n",
       "    .dataframe tbody tr th:only-of-type {\n",
       "        vertical-align: middle;\n",
       "    }\n",
       "\n",
       "    .dataframe tbody tr th {\n",
       "        vertical-align: top;\n",
       "    }\n",
       "\n",
       "    .dataframe thead th {\n",
       "        text-align: right;\n",
       "    }\n",
       "</style>\n",
       "<table border=\"1\" class=\"dataframe\">\n",
       "  <thead>\n",
       "    <tr style=\"text-align: right;\">\n",
       "      <th></th>\n",
       "      <th>ProductID</th>\n",
       "      <th>StartDate</th>\n",
       "      <th>EndDate</th>\n",
       "      <th>StandardCost</th>\n",
       "      <th>ModifiedDate</th>\n",
       "    </tr>\n",
       "  </thead>\n",
       "  <tbody>\n",
       "    <tr>\n",
       "      <th>0</th>\n",
       "      <td>707</td>\n",
       "      <td>2011-05-31</td>\n",
       "      <td>2012-05-29</td>\n",
       "      <td>12.0278</td>\n",
       "      <td>2012-05-29</td>\n",
       "    </tr>\n",
       "    <tr>\n",
       "      <th>1</th>\n",
       "      <td>707</td>\n",
       "      <td>2012-05-30</td>\n",
       "      <td>2013-05-29</td>\n",
       "      <td>13.8782</td>\n",
       "      <td>2013-05-29</td>\n",
       "    </tr>\n",
       "    <tr>\n",
       "      <th>2</th>\n",
       "      <td>707</td>\n",
       "      <td>2013-05-30</td>\n",
       "      <td>NaT</td>\n",
       "      <td>13.0863</td>\n",
       "      <td>2013-05-16</td>\n",
       "    </tr>\n",
       "    <tr>\n",
       "      <th>3</th>\n",
       "      <td>708</td>\n",
       "      <td>2011-05-31</td>\n",
       "      <td>2012-05-29</td>\n",
       "      <td>12.0278</td>\n",
       "      <td>2012-05-29</td>\n",
       "    </tr>\n",
       "    <tr>\n",
       "      <th>4</th>\n",
       "      <td>708</td>\n",
       "      <td>2012-05-30</td>\n",
       "      <td>2013-05-29</td>\n",
       "      <td>13.8782</td>\n",
       "      <td>2013-05-29</td>\n",
       "    </tr>\n",
       "    <tr>\n",
       "      <th>...</th>\n",
       "      <td>...</td>\n",
       "      <td>...</td>\n",
       "      <td>...</td>\n",
       "      <td>...</td>\n",
       "      <td>...</td>\n",
       "    </tr>\n",
       "    <tr>\n",
       "      <th>390</th>\n",
       "      <td>995</td>\n",
       "      <td>2013-05-30</td>\n",
       "      <td>NaT</td>\n",
       "      <td>44.9506</td>\n",
       "      <td>2013-05-16</td>\n",
       "    </tr>\n",
       "    <tr>\n",
       "      <th>391</th>\n",
       "      <td>996</td>\n",
       "      <td>2013-05-30</td>\n",
       "      <td>NaT</td>\n",
       "      <td>53.9416</td>\n",
       "      <td>2013-05-16</td>\n",
       "    </tr>\n",
       "    <tr>\n",
       "      <th>392</th>\n",
       "      <td>997</td>\n",
       "      <td>2013-05-30</td>\n",
       "      <td>NaT</td>\n",
       "      <td>343.6496</td>\n",
       "      <td>2013-05-16</td>\n",
       "    </tr>\n",
       "    <tr>\n",
       "      <th>393</th>\n",
       "      <td>998</td>\n",
       "      <td>2013-05-30</td>\n",
       "      <td>NaT</td>\n",
       "      <td>343.6496</td>\n",
       "      <td>2013-05-16</td>\n",
       "    </tr>\n",
       "    <tr>\n",
       "      <th>394</th>\n",
       "      <td>999</td>\n",
       "      <td>2013-05-30</td>\n",
       "      <td>NaT</td>\n",
       "      <td>343.6496</td>\n",
       "      <td>2013-05-16</td>\n",
       "    </tr>\n",
       "  </tbody>\n",
       "</table>\n",
       "<p>395 rows × 5 columns</p>\n",
       "</div>"
      ],
      "text/plain": [
       "     ProductID  StartDate    EndDate  StandardCost ModifiedDate\n",
       "0          707 2011-05-31 2012-05-29       12.0278   2012-05-29\n",
       "1          707 2012-05-30 2013-05-29       13.8782   2013-05-29\n",
       "2          707 2013-05-30        NaT       13.0863   2013-05-16\n",
       "3          708 2011-05-31 2012-05-29       12.0278   2012-05-29\n",
       "4          708 2012-05-30 2013-05-29       13.8782   2013-05-29\n",
       "..         ...        ...        ...           ...          ...\n",
       "390        995 2013-05-30        NaT       44.9506   2013-05-16\n",
       "391        996 2013-05-30        NaT       53.9416   2013-05-16\n",
       "392        997 2013-05-30        NaT      343.6496   2013-05-16\n",
       "393        998 2013-05-30        NaT      343.6496   2013-05-16\n",
       "394        999 2013-05-30        NaT      343.6496   2013-05-16\n",
       "\n",
       "[395 rows x 5 columns]"
      ]
     },
     "execution_count": 47,
     "metadata": {},
     "output_type": "execute_result"
    }
   ],
   "source": [
    "# To see the production cost\n",
    "df10=pd.read_sql('SELECT * from Production.ProductCostHistory', con=connection)\n",
    "df10"
   ]
  },
  {
   "cell_type": "code",
   "execution_count": 48,
   "id": "4d5dc55b",
   "metadata": {},
   "outputs": [
    {
     "data": {
      "text/plain": [
       "171535.0024"
      ]
     },
     "execution_count": 48,
     "metadata": {},
     "output_type": "execute_result"
    }
   ],
   "source": [
    "# Total standard cost  \n",
    "df10['StandardCost'].sum()"
   ]
  },
  {
   "cell_type": "code",
   "execution_count": 49,
   "id": "2fa827f4",
   "metadata": {},
   "outputs": [
    {
     "data": {
      "text/plain": [
       "434.2658288607595"
      ]
     },
     "execution_count": 49,
     "metadata": {},
     "output_type": "execute_result"
    }
   ],
   "source": [
    "# Average standard cost\n",
    "df10['StandardCost'].mean()"
   ]
  },
  {
   "cell_type": "markdown",
   "id": "acb9143c",
   "metadata": {},
   "source": [
    "# Purchasing Schema"
   ]
  },
  {
   "cell_type": "markdown",
   "id": "da31a543",
   "metadata": {},
   "source": [
    "## Purchasing.Vendor Table"
   ]
  },
  {
   "cell_type": "code",
   "execution_count": 51,
   "id": "cf4a3487",
   "metadata": {},
   "outputs": [],
   "source": [
    "df11=pd.read_sql('SELECT * from Purchasing.Vendor', con=connection)"
   ]
  },
  {
   "cell_type": "code",
   "execution_count": 54,
   "id": "1bb6e630",
   "metadata": {},
   "outputs": [
    {
     "data": {
      "text/plain": [
       "0        Australia Bike Retailer\n",
       "1                Allenson Cycles\n",
       "2              Advanced Bicycles\n",
       "3                   Trikes, Inc.\n",
       "4        Morgan Bike Accessories\n",
       "                 ...            \n",
       "99        Bloomington Multisport\n",
       "100          Carlson Specialties\n",
       "101                Compete, Inc.\n",
       "102         Chicago City Saddles\n",
       "103    Business Equipment Center\n",
       "Name: Name, Length: 104, dtype: object"
      ]
     },
     "execution_count": 54,
     "metadata": {},
     "output_type": "execute_result"
    }
   ],
   "source": [
    "# See the purchasing vendors\n",
    "df11=pd.read_sql('SELECT * from Purchasing.Vendor', con=connection)\n",
    "df11['Name']"
   ]
  },
  {
   "cell_type": "code",
   "execution_count": 52,
   "id": "a7426d53",
   "metadata": {},
   "outputs": [
    {
     "data": {
      "text/plain": [
       "104"
      ]
     },
     "execution_count": 52,
     "metadata": {},
     "output_type": "execute_result"
    }
   ],
   "source": [
    "# Counting the total number of vendors\n",
    "df11['Name'].count()"
   ]
  },
  {
   "cell_type": "markdown",
   "id": "01bdcca5",
   "metadata": {},
   "source": [
    "## Purchasing.PurchaseOrderHeader and Purchasing.Vendor Table"
   ]
  },
  {
   "cell_type": "code",
   "execution_count": 53,
   "id": "3c5d93b3",
   "metadata": {},
   "outputs": [
    {
     "name": "stdout",
     "output_type": "stream",
     "text": [
      "                         Vendor Name  Total Amount Ordered  \\\n",
      "0                  Superior Bicycles          5.034267e+06   \n",
      "1  Professional Athletic Consultants          3.379946e+06   \n",
      "2               Chicago City Saddles          3.347165e+06   \n",
      "3                  Jackson Authority          2.821334e+06   \n",
      "4                Vision Cycles, Inc.          2.777685e+06   \n",
      "5                      Sport Fan Co.          2.675889e+06   \n",
      "6                    Proseware, Inc.          2.593901e+06   \n",
      "7         Greenwood Athletic Company          2.472770e+06   \n",
      "8                      Crowley Sport          2.472770e+06   \n",
      "9                    Mitchell Sports          2.424284e+06   \n",
      "\n",
      "   Average Order Amount  \n",
      "0           100685.3348  \n",
      "1            67598.9264  \n",
      "2            65630.6901  \n",
      "3            55320.2650  \n",
      "4            55553.6982  \n",
      "5            53517.7843  \n",
      "6            50860.8100  \n",
      "7            48485.6873  \n",
      "8            48485.6873  \n",
      "9            48485.6873  \n"
     ]
    }
   ],
   "source": [
    "# Top 10 vendors\n",
    "vendor_query= \"\"\"\n",
    "SELECT TOP (10)\n",
    "    B.Name AS 'Vendor Name', \n",
    "    SUM(A.TotalDue) AS 'Total Amount Ordered',\n",
    "    AVG(A.TotalDue) AS 'Average Order Amount'\n",
    "FROM Purchasing.PurchaseOrderHeader AS A\n",
    "JOIN  Purchasing.Vendor AS B\n",
    "    ON B.BusinessEntityID = A.VendorID\n",
    "GROUP BY B.Name\n",
    "ORDER BY SUM(A.TotalDue) DESC;\"\"\"\n",
    "vendor_data = pd.read_sql(vendor_query, con=connection)\n",
    "print(vendor_data)"
   ]
  },
  {
   "cell_type": "markdown",
   "id": "75ef2e41",
   "metadata": {},
   "source": [
    "# Human Resources Schema"
   ]
  },
  {
   "cell_type": "markdown",
   "id": "426715f1",
   "metadata": {},
   "source": [
    "## HumanResources.Department Table"
   ]
  },
  {
   "cell_type": "code",
   "execution_count": 8,
   "id": "8711d9d4",
   "metadata": {},
   "outputs": [
    {
     "data": {
      "text/html": [
       "<div>\n",
       "<style scoped>\n",
       "    .dataframe tbody tr th:only-of-type {\n",
       "        vertical-align: middle;\n",
       "    }\n",
       "\n",
       "    .dataframe tbody tr th {\n",
       "        vertical-align: top;\n",
       "    }\n",
       "\n",
       "    .dataframe thead th {\n",
       "        text-align: right;\n",
       "    }\n",
       "</style>\n",
       "<table border=\"1\" class=\"dataframe\">\n",
       "  <thead>\n",
       "    <tr style=\"text-align: right;\">\n",
       "      <th></th>\n",
       "      <th>DepartmentID</th>\n",
       "      <th>Name</th>\n",
       "      <th>GroupName</th>\n",
       "      <th>ModifiedDate</th>\n",
       "    </tr>\n",
       "  </thead>\n",
       "  <tbody>\n",
       "    <tr>\n",
       "      <th>0</th>\n",
       "      <td>1</td>\n",
       "      <td>Engineering</td>\n",
       "      <td>Research and Development</td>\n",
       "      <td>2008-04-30</td>\n",
       "    </tr>\n",
       "    <tr>\n",
       "      <th>1</th>\n",
       "      <td>2</td>\n",
       "      <td>Tool Design</td>\n",
       "      <td>Research and Development</td>\n",
       "      <td>2008-04-30</td>\n",
       "    </tr>\n",
       "    <tr>\n",
       "      <th>2</th>\n",
       "      <td>3</td>\n",
       "      <td>Sales</td>\n",
       "      <td>Sales and Marketing</td>\n",
       "      <td>2008-04-30</td>\n",
       "    </tr>\n",
       "    <tr>\n",
       "      <th>3</th>\n",
       "      <td>4</td>\n",
       "      <td>Marketing</td>\n",
       "      <td>Sales and Marketing</td>\n",
       "      <td>2008-04-30</td>\n",
       "    </tr>\n",
       "    <tr>\n",
       "      <th>4</th>\n",
       "      <td>5</td>\n",
       "      <td>Purchasing</td>\n",
       "      <td>Inventory Management</td>\n",
       "      <td>2008-04-30</td>\n",
       "    </tr>\n",
       "    <tr>\n",
       "      <th>5</th>\n",
       "      <td>6</td>\n",
       "      <td>Research and Development</td>\n",
       "      <td>Research and Development</td>\n",
       "      <td>2008-04-30</td>\n",
       "    </tr>\n",
       "    <tr>\n",
       "      <th>6</th>\n",
       "      <td>7</td>\n",
       "      <td>Production</td>\n",
       "      <td>Manufacturing</td>\n",
       "      <td>2008-04-30</td>\n",
       "    </tr>\n",
       "    <tr>\n",
       "      <th>7</th>\n",
       "      <td>8</td>\n",
       "      <td>Production Control</td>\n",
       "      <td>Manufacturing</td>\n",
       "      <td>2008-04-30</td>\n",
       "    </tr>\n",
       "    <tr>\n",
       "      <th>8</th>\n",
       "      <td>9</td>\n",
       "      <td>Human Resources</td>\n",
       "      <td>Executive General and Administration</td>\n",
       "      <td>2008-04-30</td>\n",
       "    </tr>\n",
       "    <tr>\n",
       "      <th>9</th>\n",
       "      <td>10</td>\n",
       "      <td>Finance</td>\n",
       "      <td>Executive General and Administration</td>\n",
       "      <td>2008-04-30</td>\n",
       "    </tr>\n",
       "    <tr>\n",
       "      <th>10</th>\n",
       "      <td>11</td>\n",
       "      <td>Information Services</td>\n",
       "      <td>Executive General and Administration</td>\n",
       "      <td>2008-04-30</td>\n",
       "    </tr>\n",
       "    <tr>\n",
       "      <th>11</th>\n",
       "      <td>12</td>\n",
       "      <td>Document Control</td>\n",
       "      <td>Quality Assurance</td>\n",
       "      <td>2008-04-30</td>\n",
       "    </tr>\n",
       "    <tr>\n",
       "      <th>12</th>\n",
       "      <td>13</td>\n",
       "      <td>Quality Assurance</td>\n",
       "      <td>Quality Assurance</td>\n",
       "      <td>2008-04-30</td>\n",
       "    </tr>\n",
       "    <tr>\n",
       "      <th>13</th>\n",
       "      <td>14</td>\n",
       "      <td>Facilities and Maintenance</td>\n",
       "      <td>Executive General and Administration</td>\n",
       "      <td>2008-04-30</td>\n",
       "    </tr>\n",
       "    <tr>\n",
       "      <th>14</th>\n",
       "      <td>15</td>\n",
       "      <td>Shipping and Receiving</td>\n",
       "      <td>Inventory Management</td>\n",
       "      <td>2008-04-30</td>\n",
       "    </tr>\n",
       "    <tr>\n",
       "      <th>15</th>\n",
       "      <td>16</td>\n",
       "      <td>Executive</td>\n",
       "      <td>Executive General and Administration</td>\n",
       "      <td>2008-04-30</td>\n",
       "    </tr>\n",
       "  </tbody>\n",
       "</table>\n",
       "</div>"
      ],
      "text/plain": [
       "    DepartmentID                        Name  \\\n",
       "0              1                 Engineering   \n",
       "1              2                 Tool Design   \n",
       "2              3                       Sales   \n",
       "3              4                   Marketing   \n",
       "4              5                  Purchasing   \n",
       "5              6    Research and Development   \n",
       "6              7                  Production   \n",
       "7              8          Production Control   \n",
       "8              9             Human Resources   \n",
       "9             10                     Finance   \n",
       "10            11        Information Services   \n",
       "11            12            Document Control   \n",
       "12            13           Quality Assurance   \n",
       "13            14  Facilities and Maintenance   \n",
       "14            15      Shipping and Receiving   \n",
       "15            16                   Executive   \n",
       "\n",
       "                               GroupName ModifiedDate  \n",
       "0               Research and Development   2008-04-30  \n",
       "1               Research and Development   2008-04-30  \n",
       "2                    Sales and Marketing   2008-04-30  \n",
       "3                    Sales and Marketing   2008-04-30  \n",
       "4                   Inventory Management   2008-04-30  \n",
       "5               Research and Development   2008-04-30  \n",
       "6                          Manufacturing   2008-04-30  \n",
       "7                          Manufacturing   2008-04-30  \n",
       "8   Executive General and Administration   2008-04-30  \n",
       "9   Executive General and Administration   2008-04-30  \n",
       "10  Executive General and Administration   2008-04-30  \n",
       "11                     Quality Assurance   2008-04-30  \n",
       "12                     Quality Assurance   2008-04-30  \n",
       "13  Executive General and Administration   2008-04-30  \n",
       "14                  Inventory Management   2008-04-30  \n",
       "15  Executive General and Administration   2008-04-30  "
      ]
     },
     "execution_count": 8,
     "metadata": {},
     "output_type": "execute_result"
    }
   ],
   "source": [
    "df5 = pd.read_sql ('SELECT*FROM HumanResources.Department',con=connection)\n",
    "df5"
   ]
  },
  {
   "cell_type": "markdown",
   "id": "744d6761",
   "metadata": {},
   "source": [
    "## HumanResources.Employee Table"
   ]
  },
  {
   "cell_type": "code",
   "execution_count": 87,
   "id": "e8d96c54",
   "metadata": {
    "scrolled": false
   },
   "outputs": [
    {
     "name": "stdout",
     "output_type": "stream",
     "text": [
      "                          jobtitle\n",
      "0                       Accountant\n",
      "1                 Accounts Manager\n",
      "2      Accounts Payable Specialist\n",
      "3   Accounts Receivable Specialist\n",
      "4           Application Specialist\n",
      "..                             ...\n",
      "62                         Stocker\n",
      "63                   Tool Designer\n",
      "64   Vice President of Engineering\n",
      "65    Vice President of Production\n",
      "66         Vice President of Sales\n",
      "\n",
      "[67 rows x 1 columns]\n"
     ]
    }
   ],
   "source": [
    "# A list of unique jobtitles\n",
    "jobtitle_query = \"\"\"\n",
    "SELECT DISTINCT jobtitle  \n",
    "FROM humanresources.employee  \n",
    "ORDER BY jobtitle;\"\"\"\n",
    "jobtitle_data = pd.read_sql(jobtitle_query, con=connection)\n",
    "print(jobtitle_data)"
   ]
  },
  {
   "cell_type": "code",
   "execution_count": 89,
   "id": "b39e18f8",
   "metadata": {
    "scrolled": true
   },
   "outputs": [
    {
     "data": {
      "text/plain": [
       "jobtitle    67\n",
       "dtype: int64"
      ]
     },
     "execution_count": 89,
     "metadata": {},
     "output_type": "execute_result"
    }
   ],
   "source": [
    "# Total job titles\n",
    "jobtitle_data.count()"
   ]
  },
  {
   "cell_type": "markdown",
   "id": "9a43456d",
   "metadata": {},
   "source": [
    "## HumanResources.EmployeePayHistory Table"
   ]
  },
  {
   "cell_type": "code",
   "execution_count": 45,
   "id": "0d3f6037",
   "metadata": {
    "scrolled": true
   },
   "outputs": [
    {
     "name": "stdout",
     "output_type": "stream",
     "text": [
      "     BusinessEntityID      Rate  RankBySalary\n",
      "0                   1  125.5000             1\n",
      "1                  25   84.1346             2\n",
      "2                 273   72.1154             3\n",
      "3                   2   63.4615             4\n",
      "4                 234   60.0962             5\n",
      "..                ...       ...           ...\n",
      "311               167    6.5000            66\n",
      "312               170    6.5000            66\n",
      "313               176    6.5000            66\n",
      "314               177    6.5000            66\n",
      "315               178    6.5000            66\n",
      "\n",
      "[316 rows x 3 columns]\n"
     ]
    }
   ],
   "source": [
    "# Rank all employess by their salary\n",
    "emplyee_salary_ranking_query = \"\"\"\n",
    "SELECT BusinessEntityID, Rate,   \n",
    "       DENSE_RANK() OVER (ORDER BY Rate DESC) AS RankBySalary  \n",
    "FROM HumanResources.EmployeePayHistory;\"\"\"\n",
    "emplyee_salary_ranking_data = pd.read_sql(emplyee_salary_ranking_query, con=connection)\n",
    "print(emplyee_salary_ranking_data)"
   ]
  },
  {
   "cell_type": "code",
   "execution_count": 46,
   "id": "0e55fe8d",
   "metadata": {},
   "outputs": [
    {
     "data": {
      "text/html": [
       "<div>\n",
       "<style scoped>\n",
       "    .dataframe tbody tr th:only-of-type {\n",
       "        vertical-align: middle;\n",
       "    }\n",
       "\n",
       "    .dataframe tbody tr th {\n",
       "        vertical-align: top;\n",
       "    }\n",
       "\n",
       "    .dataframe thead th {\n",
       "        text-align: right;\n",
       "    }\n",
       "</style>\n",
       "<table border=\"1\" class=\"dataframe\">\n",
       "  <thead>\n",
       "    <tr style=\"text-align: right;\">\n",
       "      <th></th>\n",
       "      <th>BusinessEntityID</th>\n",
       "      <th>Rate</th>\n",
       "      <th>RankBySalary</th>\n",
       "    </tr>\n",
       "  </thead>\n",
       "  <tbody>\n",
       "    <tr>\n",
       "      <th>0</th>\n",
       "      <td>1</td>\n",
       "      <td>125.5000</td>\n",
       "      <td>1</td>\n",
       "    </tr>\n",
       "    <tr>\n",
       "      <th>1</th>\n",
       "      <td>25</td>\n",
       "      <td>84.1346</td>\n",
       "      <td>2</td>\n",
       "    </tr>\n",
       "    <tr>\n",
       "      <th>2</th>\n",
       "      <td>273</td>\n",
       "      <td>72.1154</td>\n",
       "      <td>3</td>\n",
       "    </tr>\n",
       "    <tr>\n",
       "      <th>3</th>\n",
       "      <td>2</td>\n",
       "      <td>63.4615</td>\n",
       "      <td>4</td>\n",
       "    </tr>\n",
       "    <tr>\n",
       "      <th>4</th>\n",
       "      <td>234</td>\n",
       "      <td>60.0962</td>\n",
       "      <td>5</td>\n",
       "    </tr>\n",
       "    <tr>\n",
       "      <th>5</th>\n",
       "      <td>263</td>\n",
       "      <td>50.4808</td>\n",
       "      <td>6</td>\n",
       "    </tr>\n",
       "    <tr>\n",
       "      <th>6</th>\n",
       "      <td>7</td>\n",
       "      <td>50.4808</td>\n",
       "      <td>6</td>\n",
       "    </tr>\n",
       "    <tr>\n",
       "      <th>7</th>\n",
       "      <td>234</td>\n",
       "      <td>48.5577</td>\n",
       "      <td>7</td>\n",
       "    </tr>\n",
       "    <tr>\n",
       "      <th>8</th>\n",
       "      <td>285</td>\n",
       "      <td>48.1010</td>\n",
       "      <td>8</td>\n",
       "    </tr>\n",
       "    <tr>\n",
       "      <th>9</th>\n",
       "      <td>274</td>\n",
       "      <td>48.1010</td>\n",
       "      <td>8</td>\n",
       "    </tr>\n",
       "  </tbody>\n",
       "</table>\n",
       "</div>"
      ],
      "text/plain": [
       "   BusinessEntityID      Rate  RankBySalary\n",
       "0                 1  125.5000             1\n",
       "1                25   84.1346             2\n",
       "2               273   72.1154             3\n",
       "3                 2   63.4615             4\n",
       "4               234   60.0962             5\n",
       "5               263   50.4808             6\n",
       "6                 7   50.4808             6\n",
       "7               234   48.5577             7\n",
       "8               285   48.1010             8\n",
       "9               274   48.1010             8"
      ]
     },
     "execution_count": 46,
     "metadata": {},
     "output_type": "execute_result"
    }
   ],
   "source": [
    "# Top 10 salary employee by BusinessEntityID\n",
    "emplyee_salary_ranking_data.head(10)"
   ]
  },
  {
   "cell_type": "markdown",
   "id": "0950d5b9",
   "metadata": {},
   "source": [
    "## HumanResources.EmployeePayHistory, HumanResources.EmployeeDepartmentHistory, and HumanResources.Department Tables"
   ]
  },
  {
   "cell_type": "code",
   "execution_count": 40,
   "id": "988321ad",
   "metadata": {},
   "outputs": [
    {
     "name": "stdout",
     "output_type": "stream",
     "text": [
      "                          Name  MinSalary  MaxSalary  AvgSalary  \\\n",
      "0             Document Control    10.2500    17.7885    14.3884   \n",
      "1                  Engineering    32.6923    63.4615    40.1442   \n",
      "2                    Executive    39.0600   125.5000    68.3034   \n",
      "3   Facilities and Maintenance     9.2500    24.0385    13.0316   \n",
      "4                      Finance    13.4615    43.2692    23.9350   \n",
      "5              Human Resources    13.9423    27.1394    18.0248   \n",
      "6         Information Services    27.4038    50.4808    34.1586   \n",
      "7                    Marketing    13.4615    37.5000    18.4318   \n",
      "8                   Production     6.5000    84.1346    13.5537   \n",
      "9           Production Control     8.6200    24.5192    16.7746   \n",
      "10                  Purchasing     9.8600    30.0000    18.0202   \n",
      "11           Quality Assurance    10.5769    28.8462    15.4647   \n",
      "12    Research and Development    40.8654    50.4808    43.6731   \n",
      "13                       Sales    23.0769    72.1154    29.9719   \n",
      "14      Shipping and Receiving     9.0000    19.2308    10.8718   \n",
      "15                 Tool Design     8.6200    29.8462    23.5054   \n",
      "\n",
      "    EmployeesPerDept  \n",
      "0                  5  \n",
      "1                  6  \n",
      "2                  4  \n",
      "3                  7  \n",
      "4                 10  \n",
      "5                  6  \n",
      "6                 10  \n",
      "7                 11  \n",
      "8                195  \n",
      "9                  8  \n",
      "10                14  \n",
      "11                 6  \n",
      "12                 4  \n",
      "13                18  \n",
      "14                 6  \n",
      "15                 6  \n"
     ]
    }
   ],
   "source": [
    "# Aggregated values for each department: department name, minimum salary, maximum salary, average salary, and number of employees in each department\n",
    "aggregated_department_query = \"\"\"\n",
    "SELECT DISTINCT Name  \n",
    "       , MIN(Rate) OVER (PARTITION BY edh.DepartmentID) AS MinSalary  \n",
    "       , MAX(Rate) OVER (PARTITION BY edh.DepartmentID) AS MaxSalary  \n",
    "       , AVG(Rate) OVER (PARTITION BY edh.DepartmentID) AS AvgSalary  \n",
    "       ,COUNT(edh.BusinessEntityID) OVER (PARTITION BY edh.DepartmentID) AS EmployeesPerDept  \n",
    "FROM HumanResources.EmployeePayHistory AS eph  \n",
    "JOIN HumanResources.EmployeeDepartmentHistory AS edh  \n",
    "     ON eph.BusinessEntityID = edh.BusinessEntityID  \n",
    "JOIN HumanResources.Department AS d  \n",
    "ON d.DepartmentID = edh.DepartmentID\n",
    "WHERE edh.EndDate IS NULL  \n",
    "ORDER BY Name;\"\"\"\n",
    "aggegated_department_data = pd.read_sql(aggregated_department_query, con=connection)\n",
    "print(aggegated_department_data)"
   ]
  },
  {
   "cell_type": "code",
   "execution_count": 90,
   "id": "45906e02",
   "metadata": {
    "scrolled": true
   },
   "outputs": [
    {
     "name": "stdout",
     "output_type": "stream",
     "text": [
      "                DepartmentName  EmployeeCount  AverageAge\n",
      "0             Document Control              5          41\n",
      "1                  Engineering              6          58\n",
      "2                    Executive              2          51\n",
      "3   Facilities and Maintenance              7          55\n",
      "4                      Finance             10          46\n",
      "5              Human Resources              6          44\n",
      "6         Information Services             10          43\n",
      "7                    Marketing              9          45\n",
      "8                   Production            179          44\n",
      "9           Production Control              6          43\n",
      "10                  Purchasing             12          51\n",
      "11           Quality Assurance              6          45\n",
      "12    Research and Development              4          40\n",
      "13                       Sales             18          53\n",
      "14      Shipping and Receiving              6          45\n",
      "15                 Tool Design              4          49\n"
     ]
    }
   ],
   "source": [
    "# How many employees in a specific department and their average age\n",
    "department_query = \"\"\"\n",
    "SELECT \n",
    "    A.Name AS DepartmentName,\n",
    "    COUNT(C.BusinessEntityID) AS EmployeeCount,\n",
    "    AVG(DATEDIFF(year, C.BirthDate, GETDATE())) AS AverageAge\n",
    "FROM HumanResources.Department AS A\n",
    "JOIN HumanResources.EmployeeDepartmentHistory AS B \n",
    "    ON A.DepartmentID = B.DepartmentID\n",
    "JOIN HumanResources.Employee AS C\n",
    "    ON C.BusinessEntityID = B.BusinessEntityID\n",
    "    AND B.EndDate IS NULL\n",
    "GROUP BY A.Name;\"\"\"\n",
    "\n",
    "department_data = pd.read_sql(department_query, con=connection)\n",
    "print(department_data)"
   ]
  },
  {
   "cell_type": "code",
   "execution_count": 91,
   "id": "3c9026c3",
   "metadata": {
    "scrolled": true
   },
   "outputs": [
    {
     "data": {
      "text/plain": [
       "16"
      ]
     },
     "execution_count": 91,
     "metadata": {},
     "output_type": "execute_result"
    }
   ],
   "source": [
    "# Total number of department\n",
    "department_data['DepartmentName'].count()"
   ]
  },
  {
   "cell_type": "code",
   "execution_count": 92,
   "id": "cd8e4e39",
   "metadata": {},
   "outputs": [
    {
     "data": {
      "text/plain": [
       "290"
      ]
     },
     "execution_count": 92,
     "metadata": {},
     "output_type": "execute_result"
    }
   ],
   "source": [
    "# Total employee\n",
    "department_data['EmployeeCount'].sum()"
   ]
  },
  {
   "cell_type": "code",
   "execution_count": 93,
   "id": "88ae18e5",
   "metadata": {
    "scrolled": true
   },
   "outputs": [
    {
     "data": {
      "image/png": "[encoded data removed]",
      "text/plain": [
       "<Figure size 1000x500 with 2 Axes>"
      ]
     },
     "metadata": {},
     "output_type": "display_data"
    }
   ],
   "source": [
    "# Graph that shows employee counts and average ages\n",
    "fig, ax1 = plt.subplots(figsize=(10,5))\n",
    "# Creating dual graph\n",
    "ax2 = ax1.twinx() \n",
    "\n",
    "bar_plot= ax1.bar(department_data['DepartmentName'], department_data['EmployeeCount'], color='purple')\n",
    "line_plot= ax2.plot(department_data['DepartmentName'], department_data['AverageAge'], color='green', marker='o')\n",
    "\n",
    "ax1.set_ylabel('Employee Amount', color='purple', size=15)\n",
    "ax2.set_ylabel('Average Age', color='green', size=15)\n",
    "\n",
    "ax1.set_xticks(range(len(department_data['DepartmentName'])))\n",
    "ax1.set_xticklabels(department_data['DepartmentName'], rotation=45, ha='right')\n",
    "\n",
    "ax1.legend([bar_plot, line_plot[0]], ['Employee Amount', 'Average Age'], loc='upper right')\n",
    "\n",
    "# Adding text and information\n",
    "total_departments = len(department_data)\n",
    "average_age = department_data['AverageAge'].mean()\n",
    "ax1.text(10,150, f'Total Departments: {total_departments}', fontsize=12, color='purple')\n",
    "ax1.text(10,140, f'Overall Average Age: {average_age:.2f}', fontsize=12, color='green')\n",
    "\n",
    "plt.show()"
   ]
  },
  {
   "cell_type": "markdown",
   "id": "360f7ffa",
   "metadata": {},
   "source": [
    "# Salesperson Schema"
   ]
  },
  {
   "cell_type": "markdown",
   "id": "8d29474c",
   "metadata": {},
   "source": [
    "## Sales.SalesPerson Table"
   ]
  },
  {
   "cell_type": "code",
   "execution_count": 12,
   "id": "4fbdf14e",
   "metadata": {},
   "outputs": [
    {
     "data": {
      "text/html": [
       "<div>\n",
       "<style scoped>\n",
       "    .dataframe tbody tr th:only-of-type {\n",
       "        vertical-align: middle;\n",
       "    }\n",
       "\n",
       "    .dataframe tbody tr th {\n",
       "        vertical-align: top;\n",
       "    }\n",
       "\n",
       "    .dataframe thead th {\n",
       "        text-align: right;\n",
       "    }\n",
       "</style>\n",
       "<table border=\"1\" class=\"dataframe\">\n",
       "  <thead>\n",
       "    <tr style=\"text-align: right;\">\n",
       "      <th></th>\n",
       "      <th>BusinessEntityID</th>\n",
       "      <th>TerritoryID</th>\n",
       "      <th>SalesQuota</th>\n",
       "      <th>Bonus</th>\n",
       "      <th>CommissionPct</th>\n",
       "      <th>SalesYTD</th>\n",
       "      <th>SalesLastYear</th>\n",
       "      <th>rowguid</th>\n",
       "      <th>ModifiedDate</th>\n",
       "    </tr>\n",
       "  </thead>\n",
       "  <tbody>\n",
       "    <tr>\n",
       "      <th>0</th>\n",
       "      <td>274</td>\n",
       "      <td>NaN</td>\n",
       "      <td>NaN</td>\n",
       "      <td>0.0</td>\n",
       "      <td>0.000</td>\n",
       "      <td>5.596976e+05</td>\n",
       "      <td>0.000000e+00</td>\n",
       "      <td>48754992-9EE0-4C0E-8C94-9451604E3E02</td>\n",
       "      <td>2010-12-28</td>\n",
       "    </tr>\n",
       "    <tr>\n",
       "      <th>1</th>\n",
       "      <td>275</td>\n",
       "      <td>2.0</td>\n",
       "      <td>300000.0</td>\n",
       "      <td>4100.0</td>\n",
       "      <td>0.012</td>\n",
       "      <td>3.763178e+06</td>\n",
       "      <td>1.750406e+06</td>\n",
       "      <td>1E0A7274-3064-4F58-88EE-4C6586C87169</td>\n",
       "      <td>2011-05-24</td>\n",
       "    </tr>\n",
       "    <tr>\n",
       "      <th>2</th>\n",
       "      <td>276</td>\n",
       "      <td>4.0</td>\n",
       "      <td>250000.0</td>\n",
       "      <td>2000.0</td>\n",
       "      <td>0.015</td>\n",
       "      <td>4.251369e+06</td>\n",
       "      <td>1.439156e+06</td>\n",
       "      <td>4DD9EEE4-8E81-4F8C-AF97-683394C1F7C0</td>\n",
       "      <td>2011-05-24</td>\n",
       "    </tr>\n",
       "    <tr>\n",
       "      <th>3</th>\n",
       "      <td>277</td>\n",
       "      <td>3.0</td>\n",
       "      <td>250000.0</td>\n",
       "      <td>2500.0</td>\n",
       "      <td>0.015</td>\n",
       "      <td>3.189418e+06</td>\n",
       "      <td>1.997186e+06</td>\n",
       "      <td>39012928-BFEC-4242-874D-423162C3F567</td>\n",
       "      <td>2011-05-24</td>\n",
       "    </tr>\n",
       "    <tr>\n",
       "      <th>4</th>\n",
       "      <td>278</td>\n",
       "      <td>6.0</td>\n",
       "      <td>250000.0</td>\n",
       "      <td>500.0</td>\n",
       "      <td>0.010</td>\n",
       "      <td>1.453719e+06</td>\n",
       "      <td>1.620277e+06</td>\n",
       "      <td>7A0AE1AB-B283-40F9-91D1-167ABF06D720</td>\n",
       "      <td>2011-05-24</td>\n",
       "    </tr>\n",
       "    <tr>\n",
       "      <th>5</th>\n",
       "      <td>279</td>\n",
       "      <td>5.0</td>\n",
       "      <td>300000.0</td>\n",
       "      <td>6700.0</td>\n",
       "      <td>0.010</td>\n",
       "      <td>2.315186e+06</td>\n",
       "      <td>1.849641e+06</td>\n",
       "      <td>52A5179D-3239-4157-AE29-17E868296DC0</td>\n",
       "      <td>2011-05-24</td>\n",
       "    </tr>\n",
       "    <tr>\n",
       "      <th>6</th>\n",
       "      <td>280</td>\n",
       "      <td>1.0</td>\n",
       "      <td>250000.0</td>\n",
       "      <td>5000.0</td>\n",
       "      <td>0.010</td>\n",
       "      <td>1.352577e+06</td>\n",
       "      <td>1.927059e+06</td>\n",
       "      <td>BE941A4A-FB50-4947-BDA4-BB8972365B08</td>\n",
       "      <td>2011-05-24</td>\n",
       "    </tr>\n",
       "    <tr>\n",
       "      <th>7</th>\n",
       "      <td>281</td>\n",
       "      <td>4.0</td>\n",
       "      <td>250000.0</td>\n",
       "      <td>3550.0</td>\n",
       "      <td>0.010</td>\n",
       "      <td>2.458536e+06</td>\n",
       "      <td>2.073506e+06</td>\n",
       "      <td>35326DDB-7278-4FEF-B3BA-EA137B69094E</td>\n",
       "      <td>2011-05-24</td>\n",
       "    </tr>\n",
       "    <tr>\n",
       "      <th>8</th>\n",
       "      <td>282</td>\n",
       "      <td>6.0</td>\n",
       "      <td>250000.0</td>\n",
       "      <td>5000.0</td>\n",
       "      <td>0.015</td>\n",
       "      <td>2.604541e+06</td>\n",
       "      <td>2.038235e+06</td>\n",
       "      <td>31FD7FC1-DC84-4F05-B9A0-762519EACACC</td>\n",
       "      <td>2011-05-24</td>\n",
       "    </tr>\n",
       "    <tr>\n",
       "      <th>9</th>\n",
       "      <td>283</td>\n",
       "      <td>1.0</td>\n",
       "      <td>250000.0</td>\n",
       "      <td>3500.0</td>\n",
       "      <td>0.012</td>\n",
       "      <td>1.573013e+06</td>\n",
       "      <td>1.371635e+06</td>\n",
       "      <td>6BAC15B2-8FFB-45A9-B6D5-040E16C2073F</td>\n",
       "      <td>2011-05-24</td>\n",
       "    </tr>\n",
       "  </tbody>\n",
       "</table>\n",
       "</div>"
      ],
      "text/plain": [
       "   BusinessEntityID  TerritoryID  SalesQuota   Bonus  CommissionPct  \\\n",
       "0               274          NaN         NaN     0.0          0.000   \n",
       "1               275          2.0    300000.0  4100.0          0.012   \n",
       "2               276          4.0    250000.0  2000.0          0.015   \n",
       "3               277          3.0    250000.0  2500.0          0.015   \n",
       "4               278          6.0    250000.0   500.0          0.010   \n",
       "5               279          5.0    300000.0  6700.0          0.010   \n",
       "6               280          1.0    250000.0  5000.0          0.010   \n",
       "7               281          4.0    250000.0  3550.0          0.010   \n",
       "8               282          6.0    250000.0  5000.0          0.015   \n",
       "9               283          1.0    250000.0  3500.0          0.012   \n",
       "\n",
       "       SalesYTD  SalesLastYear                               rowguid  \\\n",
       "0  5.596976e+05   0.000000e+00  48754992-9EE0-4C0E-8C94-9451604E3E02   \n",
       "1  3.763178e+06   1.750406e+06  1E0A7274-3064-4F58-88EE-4C6586C87169   \n",
       "2  4.251369e+06   1.439156e+06  4DD9EEE4-8E81-4F8C-AF97-683394C1F7C0   \n",
       "3  3.189418e+06   1.997186e+06  39012928-BFEC-4242-874D-423162C3F567   \n",
       "4  1.453719e+06   1.620277e+06  7A0AE1AB-B283-40F9-91D1-167ABF06D720   \n",
       "5  2.315186e+06   1.849641e+06  52A5179D-3239-4157-AE29-17E868296DC0   \n",
       "6  1.352577e+06   1.927059e+06  BE941A4A-FB50-4947-BDA4-BB8972365B08   \n",
       "7  2.458536e+06   2.073506e+06  35326DDB-7278-4FEF-B3BA-EA137B69094E   \n",
       "8  2.604541e+06   2.038235e+06  31FD7FC1-DC84-4F05-B9A0-762519EACACC   \n",
       "9  1.573013e+06   1.371635e+06  6BAC15B2-8FFB-45A9-B6D5-040E16C2073F   \n",
       "\n",
       "  ModifiedDate  \n",
       "0   2010-12-28  \n",
       "1   2011-05-24  \n",
       "2   2011-05-24  \n",
       "3   2011-05-24  \n",
       "4   2011-05-24  \n",
       "5   2011-05-24  \n",
       "6   2011-05-24  \n",
       "7   2011-05-24  \n",
       "8   2011-05-24  \n",
       "9   2011-05-24  "
      ]
     },
     "execution_count": 12,
     "metadata": {},
     "output_type": "execute_result"
    }
   ],
   "source": [
    "df16=pd.read_sql('SELECT * FROM Sales.SalesPerson', con=connection)\n",
    "df16.head(10)"
   ]
  },
  {
   "cell_type": "code",
   "execution_count": 60,
   "id": "2fc17f60",
   "metadata": {},
   "outputs": [
    {
     "data": {
      "text/html": [
       "<div>\n",
       "<style scoped>\n",
       "    .dataframe tbody tr th:only-of-type {\n",
       "        vertical-align: middle;\n",
       "    }\n",
       "\n",
       "    .dataframe tbody tr th {\n",
       "        vertical-align: top;\n",
       "    }\n",
       "\n",
       "    .dataframe thead th {\n",
       "        text-align: right;\n",
       "    }\n",
       "</style>\n",
       "<table border=\"1\" class=\"dataframe\">\n",
       "  <thead>\n",
       "    <tr style=\"text-align: right;\">\n",
       "      <th></th>\n",
       "      <th>SalesYTD</th>\n",
       "    </tr>\n",
       "    <tr>\n",
       "      <th>BusinessEntityID</th>\n",
       "      <th></th>\n",
       "    </tr>\n",
       "  </thead>\n",
       "  <tbody>\n",
       "    <tr>\n",
       "      <th>276</th>\n",
       "      <td>4.251369e+06</td>\n",
       "    </tr>\n",
       "    <tr>\n",
       "      <th>289</th>\n",
       "      <td>4.116871e+06</td>\n",
       "    </tr>\n",
       "    <tr>\n",
       "      <th>275</th>\n",
       "      <td>3.763178e+06</td>\n",
       "    </tr>\n",
       "    <tr>\n",
       "      <th>277</th>\n",
       "      <td>3.189418e+06</td>\n",
       "    </tr>\n",
       "    <tr>\n",
       "      <th>290</th>\n",
       "      <td>3.121616e+06</td>\n",
       "    </tr>\n",
       "    <tr>\n",
       "      <th>282</th>\n",
       "      <td>2.604541e+06</td>\n",
       "    </tr>\n",
       "    <tr>\n",
       "      <th>281</th>\n",
       "      <td>2.458536e+06</td>\n",
       "    </tr>\n",
       "    <tr>\n",
       "      <th>279</th>\n",
       "      <td>2.315186e+06</td>\n",
       "    </tr>\n",
       "    <tr>\n",
       "      <th>288</th>\n",
       "      <td>1.827067e+06</td>\n",
       "    </tr>\n",
       "    <tr>\n",
       "      <th>284</th>\n",
       "      <td>1.576562e+06</td>\n",
       "    </tr>\n",
       "    <tr>\n",
       "      <th>283</th>\n",
       "      <td>1.573013e+06</td>\n",
       "    </tr>\n",
       "    <tr>\n",
       "      <th>278</th>\n",
       "      <td>1.453719e+06</td>\n",
       "    </tr>\n",
       "    <tr>\n",
       "      <th>286</th>\n",
       "      <td>1.421811e+06</td>\n",
       "    </tr>\n",
       "    <tr>\n",
       "      <th>280</th>\n",
       "      <td>1.352577e+06</td>\n",
       "    </tr>\n",
       "    <tr>\n",
       "      <th>274</th>\n",
       "      <td>5.596976e+05</td>\n",
       "    </tr>\n",
       "    <tr>\n",
       "      <th>287</th>\n",
       "      <td>5.199059e+05</td>\n",
       "    </tr>\n",
       "    <tr>\n",
       "      <th>285</th>\n",
       "      <td>1.725245e+05</td>\n",
       "    </tr>\n",
       "  </tbody>\n",
       "</table>\n",
       "</div>"
      ],
      "text/plain": [
       "                      SalesYTD\n",
       "BusinessEntityID              \n",
       "276               4.251369e+06\n",
       "289               4.116871e+06\n",
       "275               3.763178e+06\n",
       "277               3.189418e+06\n",
       "290               3.121616e+06\n",
       "282               2.604541e+06\n",
       "281               2.458536e+06\n",
       "279               2.315186e+06\n",
       "288               1.827067e+06\n",
       "284               1.576562e+06\n",
       "283               1.573013e+06\n",
       "278               1.453719e+06\n",
       "286               1.421811e+06\n",
       "280               1.352577e+06\n",
       "274               5.596976e+05\n",
       "287               5.199059e+05\n",
       "285               1.725245e+05"
      ]
     },
     "execution_count": 60,
     "metadata": {},
     "output_type": "execute_result"
    }
   ],
   "source": [
    "# Sales YTD sorted by Business Entity ID\n",
    "sales_rep_sales = df16.groupby(by=['BusinessEntityID'])['SalesYTD'].sum()\n",
    "sales_rep_sales = pd.DataFrame(sales_rep_sales).sort_values(ascending=False, by='SalesYTD')\n",
    "sales_rep_sales"
   ]
  },
  {
   "cell_type": "code",
   "execution_count": 62,
   "id": "0e7a3ef0",
   "metadata": {},
   "outputs": [
    {
     "data": {
      "text/html": [
       "<div>\n",
       "<style scoped>\n",
       "    .dataframe tbody tr th:only-of-type {\n",
       "        vertical-align: middle;\n",
       "    }\n",
       "\n",
       "    .dataframe tbody tr th {\n",
       "        vertical-align: top;\n",
       "    }\n",
       "\n",
       "    .dataframe thead th {\n",
       "        text-align: right;\n",
       "    }\n",
       "</style>\n",
       "<table border=\"1\" class=\"dataframe\">\n",
       "  <thead>\n",
       "    <tr style=\"text-align: right;\">\n",
       "      <th></th>\n",
       "      <th>SalesLastYear</th>\n",
       "    </tr>\n",
       "    <tr>\n",
       "      <th>BusinessEntityID</th>\n",
       "      <th></th>\n",
       "    </tr>\n",
       "  </thead>\n",
       "  <tbody>\n",
       "    <tr>\n",
       "      <th>290</th>\n",
       "      <td>2.396540e+06</td>\n",
       "    </tr>\n",
       "    <tr>\n",
       "      <th>286</th>\n",
       "      <td>2.278549e+06</td>\n",
       "    </tr>\n",
       "    <tr>\n",
       "      <th>281</th>\n",
       "      <td>2.073506e+06</td>\n",
       "    </tr>\n",
       "    <tr>\n",
       "      <th>282</th>\n",
       "      <td>2.038235e+06</td>\n",
       "    </tr>\n",
       "    <tr>\n",
       "      <th>277</th>\n",
       "      <td>1.997186e+06</td>\n",
       "    </tr>\n",
       "    <tr>\n",
       "      <th>280</th>\n",
       "      <td>1.927059e+06</td>\n",
       "    </tr>\n",
       "    <tr>\n",
       "      <th>279</th>\n",
       "      <td>1.849641e+06</td>\n",
       "    </tr>\n",
       "    <tr>\n",
       "      <th>275</th>\n",
       "      <td>1.750406e+06</td>\n",
       "    </tr>\n",
       "    <tr>\n",
       "      <th>289</th>\n",
       "      <td>1.635823e+06</td>\n",
       "    </tr>\n",
       "    <tr>\n",
       "      <th>278</th>\n",
       "      <td>1.620277e+06</td>\n",
       "    </tr>\n",
       "    <tr>\n",
       "      <th>276</th>\n",
       "      <td>1.439156e+06</td>\n",
       "    </tr>\n",
       "    <tr>\n",
       "      <th>283</th>\n",
       "      <td>1.371635e+06</td>\n",
       "    </tr>\n",
       "    <tr>\n",
       "      <th>288</th>\n",
       "      <td>1.307950e+06</td>\n",
       "    </tr>\n",
       "    <tr>\n",
       "      <th>284</th>\n",
       "      <td>0.000000e+00</td>\n",
       "    </tr>\n",
       "    <tr>\n",
       "      <th>285</th>\n",
       "      <td>0.000000e+00</td>\n",
       "    </tr>\n",
       "    <tr>\n",
       "      <th>287</th>\n",
       "      <td>0.000000e+00</td>\n",
       "    </tr>\n",
       "    <tr>\n",
       "      <th>274</th>\n",
       "      <td>0.000000e+00</td>\n",
       "    </tr>\n",
       "  </tbody>\n",
       "</table>\n",
       "</div>"
      ],
      "text/plain": [
       "                  SalesLastYear\n",
       "BusinessEntityID               \n",
       "290                2.396540e+06\n",
       "286                2.278549e+06\n",
       "281                2.073506e+06\n",
       "282                2.038235e+06\n",
       "277                1.997186e+06\n",
       "280                1.927059e+06\n",
       "279                1.849641e+06\n",
       "275                1.750406e+06\n",
       "289                1.635823e+06\n",
       "278                1.620277e+06\n",
       "276                1.439156e+06\n",
       "283                1.371635e+06\n",
       "288                1.307950e+06\n",
       "284                0.000000e+00\n",
       "285                0.000000e+00\n",
       "287                0.000000e+00\n",
       "274                0.000000e+00"
      ]
     },
     "execution_count": 62,
     "metadata": {},
     "output_type": "execute_result"
    }
   ],
   "source": [
    "# Sales Last Year sorted by Business Entity ID\n",
    "sales_rep_sales = df16.groupby(by=['BusinessEntityID'])['SalesLastYear'].sum()\n",
    "sales_rep_sales = pd.DataFrame(sales_rep_sales).sort_values(ascending=False, by='SalesLastYear')\n",
    "sales_rep_sales"
   ]
  },
  {
   "cell_type": "code",
   "execution_count": 13,
   "id": "2eb8525f",
   "metadata": {},
   "outputs": [
    {
     "data": {
      "text/plain": [
       "36277591.903400004"
      ]
     },
     "execution_count": 13,
     "metadata": {},
     "output_type": "execute_result"
    }
   ],
   "source": [
    "# Total sale YTD\n",
    "df16['SalesYTD'].sum()"
   ]
  },
  {
   "cell_type": "code",
   "execution_count": 68,
   "id": "ce543d76",
   "metadata": {},
   "outputs": [
    {
     "data": {
      "text/plain": [
       "23685963.624399997"
      ]
     },
     "execution_count": 68,
     "metadata": {},
     "output_type": "execute_result"
    }
   ],
   "source": [
    "# Total sale last year\n",
    "df16['SalesLastYear'].sum()"
   ]
  },
  {
   "cell_type": "code",
   "execution_count": 71,
   "id": "c44c9019",
   "metadata": {},
   "outputs": [
    {
     "data": {
      "text/plain": [
       "48610.0"
      ]
     },
     "execution_count": 71,
     "metadata": {},
     "output_type": "execute_result"
    }
   ],
   "source": [
    "# Total bonus\n",
    "df16['Bonus'].sum()"
   ]
  },
  {
   "cell_type": "markdown",
   "id": "e0ece061",
   "metadata": {},
   "source": [
    "# Person Schema"
   ]
  },
  {
   "cell_type": "markdown",
   "id": "a4f5f0a6",
   "metadata": {},
   "source": [
    "## Person.Person Table"
   ]
  },
  {
   "cell_type": "code",
   "execution_count": 2,
   "id": "24fd945d",
   "metadata": {},
   "outputs": [
    {
     "name": "stdout",
     "output_type": "stream",
     "text": [
      "      Firstname    Lastname  Employee_id\n",
      "0            A.    Leonetti         1305\n",
      "1            A.      Wright         2321\n",
      "2      A. Scott      Wright          222\n",
      "3         Aaron      Wright        17137\n",
      "4         Aaron        Yang         5522\n",
      "...         ...         ...          ...\n",
      "19967       Zoe     Ramirez         8301\n",
      "19968       Zoe  Richardson         8460\n",
      "19969       Zoe        Reed         9122\n",
      "19970       Zoe     Sanders         8042\n",
      "19971       Zoe     Sanchez         9510\n",
      "\n",
      "[19972 rows x 3 columns]\n"
     ]
    }
   ],
   "source": [
    "# All employees firstname, Lastname and Employee ID\n",
    "employee_name_query = \"\"\"\n",
    "SELECT Firstname, Lastname, businessentityid as Employee_id  \n",
    "FROM person.person AS e  \n",
    "ORDER BY Firstname;\"\"\"\n",
    "employee_data = pd.read_sql(employee_name_query, con=connection)\n",
    "print(employee_data)"
   ]
  },
  {
   "cell_type": "markdown",
   "id": "a873d6e1",
   "metadata": {},
   "source": [
    "## Person.BusinessEntityAddress and Person.Address Tables"
   ]
  },
  {
   "cell_type": "code",
   "execution_count": 29,
   "id": "fce2dddf",
   "metadata": {
    "scrolled": true
   },
   "outputs": [
    {
     "name": "stdout",
     "output_type": "stream",
     "text": [
      "           City  NoOfEmployees\n",
      "0      Abingdon              1\n",
      "1        Albany              4\n",
      "2    Alexandria              2\n",
      "3      Alhambra              1\n",
      "4        Alpine              1\n",
      "..          ...            ...\n",
      "570  Woonsocket              1\n",
      "571    Wrentham              1\n",
      "572      Yakima             96\n",
      "573        York            117\n",
      "574     Zeeland              1\n",
      "\n",
      "[575 rows x 2 columns]\n"
     ]
    }
   ],
   "source": [
    "# Number of employees for each City\n",
    "employees_in_city_query = \"\"\"\n",
    "SELECT a.City, COUNT(b.AddressID) NoOfEmployees \n",
    "FROM Person.BusinessEntityAddress AS b   \n",
    "    INNER JOIN Person.Address AS a  \n",
    "        ON b.AddressID = a.AddressID  \n",
    "GROUP BY a.City  \n",
    "ORDER BY a.City;\"\"\"\n",
    "employees_in_city_data = pd.read_sql(employees_in_city_query, con=connection)\n",
    "print(employees_in_city_data)"
   ]
  },
  {
   "cell_type": "markdown",
   "id": "7973fdc7",
   "metadata": {},
   "source": [
    "## Person.CountryRegion Table"
   ]
  },
  {
   "cell_type": "code",
   "execution_count": 22,
   "id": "6d8e7176",
   "metadata": {},
   "outputs": [],
   "source": [
    "# CountryRegion Table\n",
    "df6=pd.read_sql('SELECT * from Person.CountryRegion', con=connection)"
   ]
  },
  {
   "cell_type": "code",
   "execution_count": 79,
   "id": "d1c77deb",
   "metadata": {},
   "outputs": [
    {
     "data": {
      "text/plain": [
       "CountryRegionCode    238\n",
       "Name                 238\n",
       "ModifiedDate         238\n",
       "dtype: int64"
      ]
     },
     "execution_count": 79,
     "metadata": {},
     "output_type": "execute_result"
    }
   ],
   "source": [
    "# Total number of countries\n",
    "df6.count()"
   ]
  },
  {
   "cell_type": "code",
   "execution_count": 80,
   "id": "47340625",
   "metadata": {},
   "outputs": [
    {
     "data": {
      "text/plain": [
       "0                   Andorra\n",
       "1      United Arab Emirates\n",
       "2               Afghanistan\n",
       "3       Antigua and Barbuda\n",
       "4                  Anguilla\n",
       "               ...         \n",
       "233                   Yemen\n",
       "234                 Mayotte\n",
       "235            South Africa\n",
       "236                  Zambia\n",
       "237                Zimbabwe\n",
       "Name: Name, Length: 238, dtype: object"
      ]
     },
     "execution_count": 80,
     "metadata": {},
     "output_type": "execute_result"
    }
   ],
   "source": [
    "# Name of the countries\n",
    "df6['Name']"
   ]
  },
  {
   "cell_type": "markdown",
   "id": "e6bfcbe9",
   "metadata": {},
   "source": [
    "## Person.StateProvince Table"
   ]
  },
  {
   "cell_type": "code",
   "execution_count": 81,
   "id": "ed67b898",
   "metadata": {},
   "outputs": [],
   "source": [
    "# StateProvince Table\n",
    "df7=pd.read_sql('SELECT * from Person.StateProvince', con=connection)"
   ]
  },
  {
   "cell_type": "code",
   "execution_count": 84,
   "id": "05c00324",
   "metadata": {},
   "outputs": [
    {
     "data": {
      "text/plain": [
       "0                Alberta\n",
       "1                 Alaska\n",
       "2                Alabama\n",
       "3               Arkansas\n",
       "4         American Samoa\n",
       "             ...        \n",
       "176              Essonne\n",
       "177       Hauts de Seine\n",
       "178    Seine Saint Denis\n",
       "179         Val de Marne\n",
       "180           Val d'Oise\n",
       "Name: Name, Length: 181, dtype: object"
      ]
     },
     "execution_count": 84,
     "metadata": {},
     "output_type": "execute_result"
    }
   ],
   "source": [
    "# Name of the states\n",
    "df7['Name']"
   ]
  },
  {
   "cell_type": "code",
   "execution_count": 83,
   "id": "fe192f01",
   "metadata": {
    "scrolled": false
   },
   "outputs": [
    {
     "data": {
      "text/plain": [
       "181"
      ]
     },
     "execution_count": 83,
     "metadata": {},
     "output_type": "execute_result"
    }
   ],
   "source": [
    "# Total number of states\n",
    "df7['Name'].count()"
   ]
  },
  {
   "cell_type": "markdown",
   "id": "5aa930c6",
   "metadata": {},
   "source": [
    "## Person.Address, Person.BusinessEntityAddress and Person.Person Tables"
   ]
  },
  {
   "cell_type": "code",
   "execution_count": 60,
   "id": "645f4b5d",
   "metadata": {
    "scrolled": true
   },
   "outputs": [
    {
     "name": "stdout",
     "output_type": "stream",
     "text": [
      "          City  Number of Customers\n",
      "0       London                  420\n",
      "1        Paris                  386\n",
      "2       Burien                  212\n",
      "3      Concord                  212\n",
      "4   Bellingham                  210\n",
      "5    Beaverton                  210\n",
      "6  Chula Vista                  206\n",
      "7     Berkeley                  200\n",
      "8   Burlingame                  198\n",
      "9   Bellflower                  194\n"
     ]
    }
   ],
   "source": [
    "# Top 10 cities by customer\n",
    "top_customer_query = \"\"\"\n",
    "SELECT TOP (10) \n",
    "    City, \n",
    "    COUNT(*) AS 'Number of Customers'\n",
    "FROM Person.Address \n",
    "JOIN Person.BusinessEntityAddress \n",
    "    ON Address.AddressID = BusinessEntityAddress.AddressID\n",
    "JOIN Person.Person \n",
    "    ON BusinessEntityAddress.BusinessEntityID = Person.BusinessEntityID\n",
    "GROUP BY City \n",
    "ORDER BY 'Number of Customers' DESC;\"\"\"\n",
    "top_customer_data = pd.read_sql(top_customer_query, con=connection)\n",
    "print(top_customer_data)"
   ]
  },
  {
   "cell_type": "code",
   "execution_count": 61,
   "id": "c3aa5767",
   "metadata": {},
   "outputs": [
    {
     "data": {
      "image/png": "[encoded data removed]",
      "text/plain": [
       "<Figure size 1500x700 with 1 Axes>"
      ]
     },
     "metadata": {},
     "output_type": "display_data"
    }
   ],
   "source": [
    "# Graph of top cities by customer\n",
    "fig, ax = plt.subplots(figsize=(15, 7))\n",
    "ax.bar(top_customer_data['City'], top_customer_data['Number of Customers'], color='green')\n",
    "ax.set_ylabel('Number of Customers',size=25, color=\"brown\")\n",
    "plt.show()"
   ]
  },
  {
   "cell_type": "markdown",
   "id": "9f94e322",
   "metadata": {},
   "source": [
    "# Multiple Mixed Schemas"
   ]
  },
  {
   "cell_type": "markdown",
   "id": "baf199f5",
   "metadata": {},
   "source": [
    "## Person.Person, HumanResources.Employee and Person.BusinessEntityAddress Tables"
   ]
  },
  {
   "cell_type": "code",
   "execution_count": 33,
   "id": "673b7b37",
   "metadata": {},
   "outputs": [
    {
     "name": "stdout",
     "output_type": "stream",
     "text": [
      "                   Name       City\n",
      "0            Syed Abbas    Bothell\n",
      "1       Kim Abercrombie  Carnation\n",
      "2        Hazem Abolrous    Kenmore\n",
      "3        Pilar Ackerman    Seattle\n",
      "4             Jay Adams     Monroe\n",
      "..                  ...        ...\n",
      "285             Nuan Yu   Bellevue\n",
      "286         Gary Yukish    Edmonds\n",
      "287  Eugene Zabokritski  Sammamish\n",
      "288  Kimberly Zimmerman    Seattle\n",
      "289    Michael Zwilling    Edmonds\n",
      "\n",
      "[290 rows x 2 columns]\n"
     ]
    }
   ],
   "source": [
    "# Employee's full name (firstname and lastname) and city\n",
    "employee_city_query = \"\"\"\n",
    "SELECT concat(RTRIM(p.FirstName),' ', LTRIM(p.LastName)) AS Name, d.City  \n",
    "FROM Person.Person AS p  \n",
    "INNER JOIN HumanResources.Employee e ON p.BusinessEntityID = e.BusinessEntityID   \n",
    "INNER JOIN  \n",
    "   (SELECT bea.BusinessEntityID, a.City   \n",
    "    FROM Person.Address AS a  \n",
    "    INNER JOIN Person.BusinessEntityAddress AS bea  \n",
    "    ON a.AddressID = bea.AddressID) AS d  \n",
    "ON p.BusinessEntityID = d.BusinessEntityID  \n",
    "ORDER BY p.LastName, p.FirstName;\"\"\"\n",
    "\n",
    "employee_city_data = pd.read_sql(employee_city_query, con=connection)\n",
    "print(employee_city_data)"
   ]
  },
  {
   "cell_type": "markdown",
   "id": "895604eb",
   "metadata": {},
   "source": [
    "## Person.BusinessEntityContact, Person.ContactType and Person.Person Tables"
   ]
  },
  {
   "cell_type": "code",
   "execution_count": 34,
   "id": "99b59e3a",
   "metadata": {},
   "outputs": [
    {
     "name": "stdout",
     "output_type": "stream",
     "text": [
      "     BusinessEntityID  FirstName     LastName\n",
      "0                 727      Aaron          Con\n",
      "1                 413       Adam         Barr\n",
      "2                1381       Ajay  Manchepalli\n",
      "3                1803       Alan      Steiner\n",
      "4                 921     Aldeen    Gallagher\n",
      "..                ...        ...          ...\n",
      "240              2034      Wendy      Wheeler\n",
      "241               731    William       Conner\n",
      "242              1019    William        Hapke\n",
      "243               683  Yao-Qiang        Cheng\n",
      "244              1435     Yvonne        McKay\n",
      "\n",
      "[245 rows x 3 columns]\n"
     ]
    }
   ],
   "source": [
    "# All Purchasing Manager's BusinessEntityID, FirstName, and LastName\n",
    "purchasing_manager_query = \"\"\"\n",
    "SELECT pp.BusinessEntityID, FirstName, LastName\n",
    "    FROM Person.BusinessEntityContact AS pb \n",
    "        INNER JOIN Person.ContactType AS pc\n",
    "            ON pc.ContactTypeID = pb.ContactTypeID\n",
    "        INNER JOIN Person.Person AS pp\n",
    "            ON pp.BusinessEntityID = pb.PersonID\n",
    "    WHERE pc.Name = 'Purchasing Manager'\n",
    "    ORDER BY FirstName, LastName;\"\"\"\n",
    "purchasing_manager_data = pd.read_sql(purchasing_manager_query, con=connection)\n",
    "print(purchasing_manager_data)"
   ]
  },
  {
   "cell_type": "code",
   "execution_count": 35,
   "id": "c9323133",
   "metadata": {},
   "outputs": [
    {
     "data": {
      "text/plain": [
       "245"
      ]
     },
     "execution_count": 35,
     "metadata": {},
     "output_type": "execute_result"
    }
   ],
   "source": [
    "# Total number of purchasing manager\n",
    "purchasing_manager_data['BusinessEntityID'].count()"
   ]
  },
  {
   "cell_type": "markdown",
   "id": "dbde8ae3",
   "metadata": {},
   "source": [
    "## Person.Person and HumanResources.EmployeePayHistory Tables"
   ]
  },
  {
   "cell_type": "code",
   "execution_count": 9,
   "id": "3d4ea274",
   "metadata": {},
   "outputs": [
    {
     "name": "stdout",
     "output_type": "stream",
     "text": [
      "       FromDate               FullName  SalaryPerWeek\n",
      "0    Mar 14 201          Abbas, Syed E       1924.040\n",
      "1    Jan 16 201     Abercrombie, Kim B        498.000\n",
      "2    Feb 28 200      Abolrous, Hazem E       1153.848\n",
      "3    Jan  2 200      Ackerman, Pilar G        769.232\n",
      "4    Mar  5 200           Adams, Jay G        498.000\n",
      "..          ...                    ...            ...\n",
      "285  Jan  6 200              Yu, Nuan         440.000\n",
      "286  Dec 22 200         Yukish, Gary W        600.000\n",
      "287  Jan 21 200  Zabokritski, Eugene R        380.000\n",
      "288  Jan 12 201  Zimmerman, Kimberly B        538.000\n",
      "289  Feb 23 201    Zwilling, Michael J        498.000\n",
      "\n",
      "[290 rows x 3 columns]\n"
     ]
    }
   ],
   "source": [
    "# Latest weekly salary with RateChangeDate, FullName (first name, middle name and last name) and weekly salary (40 hours in a week) of employees\n",
    "employee_query = \"\"\"\n",
    "SELECT CAST(hur.RateChangeDate as VARCHAR(10) ) AS FromDate\n",
    "        , CONCAT(LastName, ', ', FirstName, ' ', MiddleName) AS FullName\n",
    "        , (40 * hur.Rate) AS SalaryPerWeek\n",
    "    FROM Person.Person AS pp\n",
    "        INNER JOIN HumanResources.EmployeePayHistory AS hur\n",
    "            ON hur.BusinessEntityID = pp.BusinessEntityID\n",
    "             WHERE hur.RateChangeDate = (SELECT MAX(RateChangeDate)\n",
    "                                FROM HumanResources.EmployeePayHistory \n",
    "                                WHERE BusinessEntityID = hur.BusinessEntityID)\n",
    "    ORDER BY FullName;\"\"\"\n",
    "employee_data = pd.read_sql(employee_query, con=connection)\n",
    "print(employee_data)"
   ]
  },
  {
   "cell_type": "code",
   "execution_count": 10,
   "id": "b0aaa245",
   "metadata": {},
   "outputs": [
    {
     "data": {
      "text/plain": [
       "210983.776"
      ]
     },
     "execution_count": 10,
     "metadata": {},
     "output_type": "execute_result"
    }
   ],
   "source": [
    "# Calculating total salary per week\n",
    "employee_data['SalaryPerWeek'].sum()"
   ]
  },
  {
   "cell_type": "markdown",
   "id": "0cf9084d",
   "metadata": {},
   "source": [
    "## HumanResources.Employee and Person.Person Tables"
   ]
  },
  {
   "cell_type": "code",
   "execution_count": 47,
   "id": "4ed227a1",
   "metadata": {},
   "outputs": [
    {
     "name": "stdout",
     "output_type": "stream",
     "text": [
      "    FirstName     LastName  VacationHours  SickLeaveHours  TotalHoursAway\n",
      "0        Chad    Niswonger             99              69             168\n",
      "1       Betsy      Stadick             99              69             168\n",
      "2         Ken      Sánchez             99              69             168\n",
      "3         Tom  Vande Velde             98              69             167\n",
      "4     Michael       Patten             98              69             167\n",
      "..        ...          ...            ...             ...             ...\n",
      "285       Min           Su              1              20              21\n",
      "286     Terri        Duffy              1              20              21\n",
      "287     Laura       Norman              0              20              20\n",
      "288   Hung-Fu         Ting              0              20              20\n",
      "289    Mandar       Samant              0              20              20\n",
      "\n",
      "[290 rows x 5 columns]\n"
     ]
    }
   ],
   "source": [
    "# Total number of hours away from work by adding vacation time and sick leave\n",
    "total_hours_leave_query = \"\"\"\n",
    "SELECT p.FirstName, p.LastName, VacationHours, SickLeaveHours,   \n",
    "    VacationHours + SickLeaveHours AS \"TotalHoursAway\"  \n",
    "FROM HumanResources.Employee AS e  \n",
    "    JOIN Person.Person AS p ON e.BusinessEntityID = p.BusinessEntityID  \n",
    "ORDER BY \"TotalHoursAway\" DESC;\"\"\"\n",
    "total_hours_leave_data = pd.read_sql(total_hours_leave_query, con=connection)\n",
    "print(total_hours_leave_data)"
   ]
  },
  {
   "cell_type": "markdown",
   "id": "6b0546c0",
   "metadata": {},
   "source": [
    "## Sales.SalesPerson, HumanResources.Employee and Person.Person Tables"
   ]
  },
  {
   "cell_type": "code",
   "execution_count": 48,
   "id": "2819fae4",
   "metadata": {},
   "outputs": [
    {
     "name": "stdout",
     "output_type": "stream",
     "text": [
      "    SalesPersonID FirstName           LastName  SalesQuota  \\\n",
      "0             274   Stephen              Jiang         NaN   \n",
      "1             275   Michael             Blythe    300000.0   \n",
      "2             276     Linda           Mitchell    250000.0   \n",
      "3             277   Jillian             Carson    250000.0   \n",
      "4             278   Garrett             Vargas    250000.0   \n",
      "5             279      Tsvi             Reiter    300000.0   \n",
      "6             280    Pamela       Ansman-Wolfe    250000.0   \n",
      "7             281       Shu                Ito    250000.0   \n",
      "8             282      José            Saraiva    250000.0   \n",
      "9             283     David           Campbell    250000.0   \n",
      "10            284      Tete        Mensa-Annan    300000.0   \n",
      "11            285      Syed              Abbas         NaN   \n",
      "12            286      Lynn           Tsoflias    250000.0   \n",
      "13            287       Amy            Alberts         NaN   \n",
      "14            288    Rachel             Valdez    250000.0   \n",
      "15            289       Jae                Pak    250000.0   \n",
      "16            290    Ranjit  Varkey Chudukatil    250000.0   \n",
      "\n",
      "    Sales Target Per Month  \n",
      "0                      NaN  \n",
      "1               25000.0000  \n",
      "2               20833.3333  \n",
      "3               20833.3333  \n",
      "4               20833.3333  \n",
      "5               25000.0000  \n",
      "6               20833.3333  \n",
      "7               20833.3333  \n",
      "8               20833.3333  \n",
      "9               20833.3333  \n",
      "10              25000.0000  \n",
      "11                     NaN  \n",
      "12              20833.3333  \n",
      "13                     NaN  \n",
      "14              20833.3333  \n",
      "15              20833.3333  \n",
      "16              20833.3333  \n"
     ]
    }
   ],
   "source": [
    "# Sales targets per month for salesperson\n",
    "sales_target_query = \"\"\"\n",
    "SELECT s.BusinessEntityID AS SalesPersonID, FirstName, LastName, SalesQuota, SalesQuota/12 AS \"Sales Target Per Month\" \n",
    "FROM Sales.SalesPerson AS s   \n",
    "JOIN HumanResources.Employee AS e   \n",
    "    ON s.BusinessEntityID = e.BusinessEntityID  \n",
    "JOIN Person.Person AS p   \n",
    "    ON e.BusinessEntityID = p.BusinessEntityID;\"\"\"\n",
    "sales_target_data = pd.read_sql(sales_target_query, con=connection)\n",
    "print(sales_target_data)"
   ]
  },
  {
   "cell_type": "markdown",
   "id": "4d26e702",
   "metadata": {},
   "source": [
    "## Sales.SalesOrderHeader and Person.Address Tables"
   ]
  },
  {
   "cell_type": "code",
   "execution_count": 56,
   "id": "05c8bf2a",
   "metadata": {},
   "outputs": [
    {
     "name": "stdout",
     "output_type": "stream",
     "text": [
      "       City  TotalOrders  TotalRevenue\n",
      "0   Toronto          176  5.034270e+06\n",
      "1    London          756  3.071177e+06\n",
      "2     Paris          575  2.233808e+06\n",
      "3   Seattle          134  1.767308e+06\n",
      "4   Burnaby           98  1.503464e+06\n",
      "5  Richmond           43  1.419264e+06\n",
      "6  Montreal           75  1.274667e+06\n",
      "7   Garland           24  1.267787e+06\n",
      "8   Memphis           27  1.246122e+06\n",
      "9    Nashua           16  1.244107e+06\n"
     ]
    }
   ],
   "source": [
    "# Top 10 cities by revenue\n",
    "city_revenue_query = \"\"\"\n",
    "SELECT TOP (10)\n",
    "    Address.City,\n",
    "    COUNT(SalesOrderHeader.SalesOrderID) AS 'TotalOrders',\n",
    "    SUM(SalesOrderHeader.TotalDue) AS 'TotalRevenue'\n",
    "FROM Sales.SalesOrderHeader\n",
    "JOIN Person.Address \n",
    "ON Sales.SalesOrderHeader.BillToAddressID = Person.Address.AddressID\n",
    "GROUP BY Address.City\n",
    "ORDER BY 'TotalRevenue' DESC;\"\"\"\n",
    "city_revenue_data = pd.read_sql(city_revenue_query, con=connection)\n",
    "print(city_revenue_data)\n"
   ]
  },
  {
   "cell_type": "code",
   "execution_count": 57,
   "id": "7e72b6d8",
   "metadata": {},
   "outputs": [
    {
     "data": {
      "image/png": "[encoded data removed]",
      "text/plain": [
       "<Figure size 1600x700 with 1 Axes>"
      ]
     },
     "metadata": {},
     "output_type": "display_data"
    }
   ],
   "source": [
    "# Graphical reprentation of top cities by revenue\n",
    "fig, ax = plt.subplots(figsize=(16, 7))\n",
    "ax.bar(city_revenue_data['City'], city_revenue_data['TotalRevenue'], color='purple')\n",
    "ax.set_ylabel('Total Revenue', size=25, color='green')\n",
    "\n",
    "# Customizing revenue figure \n",
    "ax.yaxis.set_major_formatter(lambda x, _: '{:,}'.format(int(x)))\n",
    "\n",
    "plt.show()"
   ]
  },
  {
   "cell_type": "markdown",
   "id": "0344b8ed",
   "metadata": {},
   "source": [
    "## Sales.SalesOrderDetail, Production.Product and Production.ProductCategory Tables"
   ]
  },
  {
   "cell_type": "code",
   "execution_count": 58,
   "id": "b5df2299",
   "metadata": {},
   "outputs": [
    {
     "name": "stdout",
     "output_type": "stream",
     "text": [
      "  Product Category  Total Sales  Total Quantity Sold\n",
      "0         Clothing    479780.78                18627\n",
      "1            Bikes   4601049.01                 7526\n",
      "2      Accessories    143811.43                 6586\n",
      "3       Components    198050.52                 1080\n"
     ]
    }
   ],
   "source": [
    "# Top selling products\n",
    "selling_query = \"\"\"\n",
    "SELECT \n",
    "       D.Name AS 'Product Category', \n",
    "       SUM(ROUND(A.LineTotal,2)) AS 'Total Sales', \n",
    "       SUM(A.OrderQty) AS 'Total Quantity Sold'\n",
    "FROM Sales.SalesOrderDetail AS A\n",
    "JOIN Production.Product AS B \n",
    "    ON A.ProductID = B.ProductID\n",
    "JOIN Production.ProductSubcategory AS C \n",
    "    ON B.ProductSubcategoryID = C.ProductSubcategoryID\n",
    "JOIN Production.ProductCategory AS D\n",
    "    ON C.ProductCategoryID = D.ProductCategoryID\n",
    "WHERE A.UnitPriceDiscount > 0\n",
    "GROUP BY D.Name;\n",
    "\"\"\"\n",
    "selling_data = pd.read_sql(selling_query, con=connection)\n",
    "print(selling_data)\n"
   ]
  },
  {
   "cell_type": "code",
   "execution_count": 59,
   "id": "7f4a04e5",
   "metadata": {},
   "outputs": [
    {
     "data": {
      "image/png": "[encoded data removed]",
      "text/plain": [
       "<Figure size 800x500 with 1 Axes>"
      ]
     },
     "metadata": {},
     "output_type": "display_data"
    }
   ],
   "source": [
    "# Graphical reprentation of top selling products\n",
    "fig, ax = plt.subplots(figsize=(8,5))\n",
    "ax.bar(selling_data['Product Category'], selling_data['Total Sales'], color='purple')\n",
    "ax.set_ylabel('Total Sales', size= 22, color='green')\n",
    "\n",
    "# Customizing sales figure \n",
    "ax.yaxis.set_major_formatter(lambda x, _: '{:,}'.format(int(x)))\n",
    "\n",
    "plt.show()"
   ]
  },
  {
   "cell_type": "markdown",
   "id": "2518c3cc",
   "metadata": {},
   "source": [
    "## Production.Product and Sales.SalesOrderDetail Tables "
   ]
  },
  {
   "cell_type": "code",
   "execution_count": 63,
   "id": "8d8af6d3",
   "metadata": {},
   "outputs": [
    {
     "name": "stdout",
     "output_type": "stream",
     "text": [
      "                          Name  SalesOrderID\n",
      "0       All-Purpose Bike Stand         51179\n",
      "1       All-Purpose Bike Stand         51488\n",
      "2       All-Purpose Bike Stand         51520\n",
      "3       All-Purpose Bike Stand         51558\n",
      "4       All-Purpose Bike Stand         51882\n",
      "...                        ...           ...\n",
      "121312       Women's Tights, S         50758\n",
      "121313       Women's Tights, S         51750\n",
      "121314       Women's Tights, S         53609\n",
      "121315       Women's Tights, S         57066\n",
      "121316       Women's Tights, S         71691\n",
      "\n",
      "[121317 rows x 2 columns]\n"
     ]
    }
   ],
   "source": [
    "# All product name and salesorderid\n",
    "all_product_query = \"\"\"\n",
    "SELECT p.Name, sod.SalesOrderID  \n",
    "FROM Production.Product AS p  \n",
    "INNER JOIN Sales.SalesOrderDetail AS sod  \n",
    "ON p.ProductID = sod.ProductID  \n",
    "ORDER BY p.Name;\"\"\"\n",
    "all_product_data = pd.read_sql(all_product_query, con=connection)\n",
    "print(all_product_data)"
   ]
  },
  {
   "cell_type": "code",
   "execution_count": 64,
   "id": "8ef7105e",
   "metadata": {},
   "outputs": [
    {
     "data": {
      "text/plain": [
       "Name            121317\n",
       "SalesOrderID    121317\n",
       "dtype: int64"
      ]
     },
     "execution_count": 64,
     "metadata": {},
     "output_type": "execute_result"
    }
   ],
   "source": [
    "# Total number of products and product IDs\n",
    "all_product_data[[\"Name\",\"SalesOrderID\"]].count()"
   ]
  },
  {
   "cell_type": "markdown",
   "id": "8037ef70",
   "metadata": {},
   "source": [
    "# Statistical analysis by Confidence interval"
   ]
  },
  {
   "cell_type": "markdown",
   "id": "c66ec83e",
   "metadata": {},
   "source": [
    "### The average sales price of bicycles using 95% confidence interval by using the formula is x̄±t*( s/√n) where x̄=Sample mean, t=Desired confidence level and degrees of freedom (n-1), s=Sample standard deviation and n=Sample size"
   ]
  },
  {
   "cell_type": "code",
   "execution_count": 66,
   "id": "04d861fb",
   "metadata": {},
   "outputs": [
    {
     "name": "stdout",
     "output_type": "stream",
     "text": [
      "   Average List Price  Standard Deviation  Sample Size\n",
      "0            1586.737          996.268721           97\n"
     ]
    }
   ],
   "source": [
    "# Finding average sales between 2011-01-01 and 2014-12-31\n",
    "ci_query = \"\"\"\n",
    "SELECT \n",
    "    AVG(ListPrice) AS 'Average List Price',\n",
    "    STDEV(ListPrice) AS 'Standard Deviation',\n",
    "    COUNT(*) AS 'Sample Size'\n",
    "FROM Production.Product AS A\n",
    "JOIN Production.ProductSubcategory AS B\n",
    "    ON A.ProductSubcategoryID = B.ProductSubcategoryID\n",
    "JOIN Production.ProductCategory AS C\n",
    "    ON B.ProductCategoryID = C.ProductCategoryID\n",
    "WHERE C.Name = 'Bikes'\n",
    "AND A.SellStartDate BETWEEN '2011-01-01' AND '2014-12-31';\"\"\"\n",
    "ci_data = pd.read_sql(sql=ci_query, con=connection)\n",
    "print(ci_data)"
   ]
  },
  {
   "cell_type": "code",
   "execution_count": 75,
   "id": "df6aa859",
   "metadata": {},
   "outputs": [
    {
     "name": "stdout",
     "output_type": "stream",
     "text": [
      "Confidence Interval for Average List Price: (1385.944398291827, 1787.5296017081732)\n"
     ]
    }
   ],
   "source": [
    "#Calculating confidence interval manually\n",
    "quantile = t.ppf(1 - (1 - ci_perc) / 2, n-1)\n",
    "\n",
    "ci_lower = mean - quantile*(std/np.sqrt(n))\n",
    "ci_upper = mean + quantile*(std/np.sqrt(n))\n",
    "\n",
    "print('Confidence Interval for Average List Price:', (ci_lower, ci_upper))"
   ]
  },
  {
   "cell_type": "code",
   "execution_count": 72,
   "id": "4970dc31",
   "metadata": {},
   "outputs": [
    {
     "name": "stdout",
     "output_type": "stream",
     "text": [
      "Confidence Interval for Average List Price: (1385.944398291827, 1787.5296017081732)\n"
     ]
    }
   ],
   "source": [
    "# Calculating confidence interval by using a built in function\n",
    "mean = ci_data['Average List Price'].iloc[0]\n",
    "std = ci_data['Standard Deviation'].iloc[0]\n",
    "n = ci_data['Sample Size'].iloc[0]\n",
    "ci_perc = 0.95\n",
    "confidence_interval = t.interval(0.95, n-1, mean, std/np.sqrt(n))\n",
    "print('Confidence Interval for Average List Price:',confidence_interval)"
   ]
  },
  {
   "cell_type": "code",
   "execution_count": 74,
   "id": "f911e858",
   "metadata": {},
   "outputs": [],
   "source": [
    "# Thank you so much! :)"
   ]
  }
 ],
 "metadata": {
  "kernelspec": {
   "display_name": "Python 3 (ipykernel)",
   "language": "python",
   "name": "python3"
  },
  "language_info": {
   "codemirror_mode": {
    "name": "ipython",
    "version": 3
   },
   "file_extension": ".py",
   "mimetype": "text/x-python",
   "name": "python",
   "nbconvert_exporter": "python",
   "pygments_lexer": "ipython3",
   "version": "3.11.5"
  }
 },
 "nbformat": 4,
 "nbformat_minor": 5
}
